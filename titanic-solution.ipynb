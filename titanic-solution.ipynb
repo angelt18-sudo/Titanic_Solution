{
 "cells": [
  {
   "cell_type": "markdown",
   "metadata": {},
   "source": [
    "<a id=\"inicio\"></a>\n",
    "<br><br><br>\n",
    "<h2><font color=\"#B51700\" size=5>Dataset Titanic</font></h2>\n",
    "\n",
    "\n",
    "\n",
    "<h1><font size=5>Analisis exploratorio, preprocesamiento de los datos y selección de modelos</font></h1>\n",
    "\n",
    "\n",
    "---"
   ]
  },
  {
   "cell_type": "markdown",
   "metadata": {},
   "source": [
    "# 1. Introducción\n",
    "\n",
    "En este notebook se trabajará con el problema del conjunto de datos `titanic`, este es un conjunto de datos típico para aprender a trabajar con problemas de machine learning, ya que cuenta con muchas características típicas de estos problemas que iremos viendo a lo largo del notebook (por ejemplo cuenta con outliers y valores nulos). Los datos han sido extraídos de la competición de `kaggle` [Titanic - Machine Learning from Disaster](https://www.kaggle.com/competitions/titanic)\n",
    "\n",
    "El objetivo de este notebook es ser bastante completo y que pueda ser usado como guía para trabajar con este tipo de problemas. Primero se realizará un análisis exploratorio (dividido en un análisis univariado y multivariado). De este estudio se extraerán varias conclusiones que nos permitirán realizar un buen preprocesamiento de los datos. Para el preprocesamiento de los datos se utilizará el concepto de `pipeline` para evitar realizar una fuga de datos (evitar introducir información del conjunto de test en el conjunto de entrenamiento). Además, el uso de una `pipeline` nos permite crear un objeto que realizará todas las transformaciones sobre los datos de una vez, lo que reduce la probabilidad de que ocurra un error en este paso. Para crear el `pipeline` se utilizarán componentes de la librería `sklearn` y también crearemos alguno nosotros.\n",
    "\n",
    "Finalmente, se entrenarán varios modelos utilizando una validación cruzada para seleccionar los parámetros que mejor funcionen para cada modelo, y después, se creará un `ensemble` con los modelos que mejor resultados han obtenido. El objetivo no es obtener un score demasiado alto sino saber aplicar todos estos conceptos, porque como veremos posteriormente para este conjunto de datos tan pequeño se obtendrían mejores resultados con modelos más sencillos que con ensembles. Aún así se han obtenido buenos resultados.\n",
    "\n",
    "Empezaremos importando las librerías necesarias."
   ]
  },
  {
   "cell_type": "code",
   "execution_count": 1,
   "metadata": {
    "execution": {
     "iopub.execute_input": "2023-01-31T15:30:49.316306Z",
     "iopub.status.busy": "2023-01-31T15:30:49.315206Z",
     "iopub.status.idle": "2023-01-31T15:30:49.321631Z",
     "shell.execute_reply": "2023-01-31T15:30:49.320337Z",
     "shell.execute_reply.started": "2023-01-31T15:30:49.316264Z"
    }
   },
   "outputs": [],
   "source": [
    "import pandas as pd\n",
    "import seaborn as sns\n",
    "import matplotlib.pyplot as plt\n",
    "import numpy as np\n",
    "\n",
    "from sklearn.base import BaseEstimator, TransformerMixin\n",
    "from sklearn.utils.validation import check_is_fitted\n",
    "\n",
    "from sklearn.impute import SimpleImputer\n",
    "from sklearn.impute import KNNImputer\n",
    "from sklearn.preprocessing import OneHotEncoder\n",
    "from sklearn.pipeline import Pipeline\n",
    "from sklearn.compose import ColumnTransformer\n",
    "\n",
    "from sklearn.model_selection import GridSearchCV\n",
    "\n",
    "from sklearn.model_selection import train_test_split\n",
    "from sklearn.svm import SVC\n",
    "from sklearn.neighbors import KNeighborsClassifier\n",
    "from sklearn.linear_model import LogisticRegression\n",
    "from sklearn.naive_bayes import GaussianNB\n",
    "from sklearn.tree import DecisionTreeClassifier\n",
    "from sklearn.ensemble import AdaBoostClassifier\n",
    "from sklearn.ensemble import BaggingClassifier\n",
    "from sklearn.ensemble import RandomForestClassifier\n",
    "from sklearn.ensemble import GradientBoostingClassifier\n",
    "from sklearn.ensemble import HistGradientBoostingClassifier\n",
    "\n",
    "from sklearn.ensemble import VotingClassifier\n",
    "from sklearn.metrics import confusion_matrix"
   ]
  },
  {
   "cell_type": "markdown",
   "metadata": {},
   "source": [
    "# 2. Carga de datos"
   ]
  },
  {
   "cell_type": "markdown",
   "metadata": {},
   "source": [
    "Antes de cargar los datos y empezar con el análisis exploratorio se va a establecer una semilla para que los resultados obtenidos a lo largo de la libreta puedan ser reproducibles."
   ]
  },
  {
   "cell_type": "code",
   "execution_count": 2,
   "metadata": {
    "execution": {
     "iopub.execute_input": "2023-01-31T15:30:49.324867Z",
     "iopub.status.busy": "2023-01-31T15:30:49.323894Z",
     "iopub.status.idle": "2023-01-31T15:30:49.333322Z",
     "shell.execute_reply": "2023-01-31T15:30:49.332203Z",
     "shell.execute_reply.started": "2023-01-31T15:30:49.324830Z"
    }
   },
   "outputs": [],
   "source": [
    "seed = 42"
   ]
  },
  {
   "cell_type": "markdown",
   "metadata": {},
   "source": [
    "Se van a cargar los datos de entrenamiento, que serán los que se utilicen para realizar el análisis exploratorio y para el entrenamiento de los modelos."
   ]
  },
  {
   "cell_type": "code",
   "execution_count": 3,
   "metadata": {
    "execution": {
     "iopub.execute_input": "2023-01-31T15:30:49.336245Z",
     "iopub.status.busy": "2023-01-31T15:30:49.335135Z",
     "iopub.status.idle": "2023-01-31T15:30:49.354624Z",
     "shell.execute_reply": "2023-01-31T15:30:49.353498Z",
     "shell.execute_reply.started": "2023-01-31T15:30:49.336197Z"
    }
   },
   "outputs": [],
   "source": [
    "filepath = 'train.csv'\n",
    "index = 'PassengerId'\n",
    "data = pd.read_csv(filepath, index_col=index)"
   ]
  },
  {
   "cell_type": "markdown",
   "metadata": {},
   "source": [
    "Se visualizan algunos registros aleatorios para comprobar que se han cargado los datos correctamente. Mostraremos algunos al azar para evitar obtener una muestra sesgada que no represente al conjunto de datos."
   ]
  },
  {
   "cell_type": "code",
   "execution_count": 4,
   "metadata": {
    "execution": {
     "iopub.execute_input": "2023-01-31T15:30:49.357481Z",
     "iopub.status.busy": "2023-01-31T15:30:49.357075Z",
     "iopub.status.idle": "2023-01-31T15:30:49.376142Z",
     "shell.execute_reply": "2023-01-31T15:30:49.375139Z",
     "shell.execute_reply.started": "2023-01-31T15:30:49.357446Z"
    }
   },
   "outputs": [
    {
     "data": {
      "text/html": [
       "<div>\n",
       "<style scoped>\n",
       "    .dataframe tbody tr th:only-of-type {\n",
       "        vertical-align: middle;\n",
       "    }\n",
       "\n",
       "    .dataframe tbody tr th {\n",
       "        vertical-align: top;\n",
       "    }\n",
       "\n",
       "    .dataframe thead th {\n",
       "        text-align: right;\n",
       "    }\n",
       "</style>\n",
       "<table border=\"1\" class=\"dataframe\">\n",
       "  <thead>\n",
       "    <tr style=\"text-align: right;\">\n",
       "      <th></th>\n",
       "      <th>Survived</th>\n",
       "      <th>Pclass</th>\n",
       "      <th>Name</th>\n",
       "      <th>Sex</th>\n",
       "      <th>Age</th>\n",
       "      <th>SibSp</th>\n",
       "      <th>Parch</th>\n",
       "      <th>Ticket</th>\n",
       "      <th>Fare</th>\n",
       "      <th>Cabin</th>\n",
       "      <th>Embarked</th>\n",
       "    </tr>\n",
       "    <tr>\n",
       "      <th>PassengerId</th>\n",
       "      <th></th>\n",
       "      <th></th>\n",
       "      <th></th>\n",
       "      <th></th>\n",
       "      <th></th>\n",
       "      <th></th>\n",
       "      <th></th>\n",
       "      <th></th>\n",
       "      <th></th>\n",
       "      <th></th>\n",
       "      <th></th>\n",
       "    </tr>\n",
       "  </thead>\n",
       "  <tbody>\n",
       "    <tr>\n",
       "      <th>710</th>\n",
       "      <td>1</td>\n",
       "      <td>3</td>\n",
       "      <td>Moubarek, Master. Halim Gonios (\"William George\")</td>\n",
       "      <td>male</td>\n",
       "      <td>NaN</td>\n",
       "      <td>1</td>\n",
       "      <td>1</td>\n",
       "      <td>2661</td>\n",
       "      <td>15.2458</td>\n",
       "      <td>NaN</td>\n",
       "      <td>C</td>\n",
       "    </tr>\n",
       "    <tr>\n",
       "      <th>440</th>\n",
       "      <td>0</td>\n",
       "      <td>2</td>\n",
       "      <td>Kvillner, Mr. Johan Henrik Johannesson</td>\n",
       "      <td>male</td>\n",
       "      <td>31.0</td>\n",
       "      <td>0</td>\n",
       "      <td>0</td>\n",
       "      <td>C.A. 18723</td>\n",
       "      <td>10.5000</td>\n",
       "      <td>NaN</td>\n",
       "      <td>S</td>\n",
       "    </tr>\n",
       "    <tr>\n",
       "      <th>841</th>\n",
       "      <td>0</td>\n",
       "      <td>3</td>\n",
       "      <td>Alhomaki, Mr. Ilmari Rudolf</td>\n",
       "      <td>male</td>\n",
       "      <td>20.0</td>\n",
       "      <td>0</td>\n",
       "      <td>0</td>\n",
       "      <td>SOTON/O2 3101287</td>\n",
       "      <td>7.9250</td>\n",
       "      <td>NaN</td>\n",
       "      <td>S</td>\n",
       "    </tr>\n",
       "    <tr>\n",
       "      <th>721</th>\n",
       "      <td>1</td>\n",
       "      <td>2</td>\n",
       "      <td>Harper, Miss. Annie Jessie \"Nina\"</td>\n",
       "      <td>female</td>\n",
       "      <td>6.0</td>\n",
       "      <td>0</td>\n",
       "      <td>1</td>\n",
       "      <td>248727</td>\n",
       "      <td>33.0000</td>\n",
       "      <td>NaN</td>\n",
       "      <td>S</td>\n",
       "    </tr>\n",
       "    <tr>\n",
       "      <th>40</th>\n",
       "      <td>1</td>\n",
       "      <td>3</td>\n",
       "      <td>Nicola-Yarred, Miss. Jamila</td>\n",
       "      <td>female</td>\n",
       "      <td>14.0</td>\n",
       "      <td>1</td>\n",
       "      <td>0</td>\n",
       "      <td>2651</td>\n",
       "      <td>11.2417</td>\n",
       "      <td>NaN</td>\n",
       "      <td>C</td>\n",
       "    </tr>\n",
       "  </tbody>\n",
       "</table>\n",
       "</div>"
      ],
      "text/plain": [
       "             Survived  Pclass  \\\n",
       "PassengerId                     \n",
       "710                 1       3   \n",
       "440                 0       2   \n",
       "841                 0       3   \n",
       "721                 1       2   \n",
       "40                  1       3   \n",
       "\n",
       "                                                          Name     Sex   Age  \\\n",
       "PassengerId                                                                    \n",
       "710          Moubarek, Master. Halim Gonios (\"William George\")    male   NaN   \n",
       "440                     Kvillner, Mr. Johan Henrik Johannesson    male  31.0   \n",
       "841                                Alhomaki, Mr. Ilmari Rudolf    male  20.0   \n",
       "721                          Harper, Miss. Annie Jessie \"Nina\"  female   6.0   \n",
       "40                                 Nicola-Yarred, Miss. Jamila  female  14.0   \n",
       "\n",
       "             SibSp  Parch            Ticket     Fare Cabin Embarked  \n",
       "PassengerId                                                          \n",
       "710              1      1              2661  15.2458   NaN        C  \n",
       "440              0      0        C.A. 18723  10.5000   NaN        S  \n",
       "841              0      0  SOTON/O2 3101287   7.9250   NaN        S  \n",
       "721              0      1            248727  33.0000   NaN        S  \n",
       "40               1      0              2651  11.2417   NaN        C  "
      ]
     },
     "execution_count": 4,
     "metadata": {},
     "output_type": "execute_result"
    }
   ],
   "source": [
    "data.sample(5, random_state=seed)"
   ]
  },
  {
   "cell_type": "markdown",
   "metadata": {},
   "source": [
    "# 3. Análisis exploratorio"
   ]
  },
  {
   "cell_type": "markdown",
   "metadata": {},
   "source": [
    "Para comenzar con el análisis exploratorio, primero vamos a visualizar la información general del dataset."
   ]
  },
  {
   "cell_type": "code",
   "execution_count": 5,
   "metadata": {
    "execution": {
     "iopub.execute_input": "2023-01-31T15:30:49.378487Z",
     "iopub.status.busy": "2023-01-31T15:30:49.378083Z",
     "iopub.status.idle": "2023-01-31T15:30:49.394827Z",
     "shell.execute_reply": "2023-01-31T15:30:49.393893Z",
     "shell.execute_reply.started": "2023-01-31T15:30:49.378444Z"
    }
   },
   "outputs": [
    {
     "name": "stdout",
     "output_type": "stream",
     "text": [
      "<class 'pandas.core.frame.DataFrame'>\n",
      "Int64Index: 891 entries, 1 to 891\n",
      "Data columns (total 11 columns):\n",
      " #   Column    Non-Null Count  Dtype  \n",
      "---  ------    --------------  -----  \n",
      " 0   Survived  891 non-null    int64  \n",
      " 1   Pclass    891 non-null    int64  \n",
      " 2   Name      891 non-null    object \n",
      " 3   Sex       891 non-null    object \n",
      " 4   Age       714 non-null    float64\n",
      " 5   SibSp     891 non-null    int64  \n",
      " 6   Parch     891 non-null    int64  \n",
      " 7   Ticket    891 non-null    object \n",
      " 8   Fare      891 non-null    float64\n",
      " 9   Cabin     204 non-null    object \n",
      " 10  Embarked  889 non-null    object \n",
      "dtypes: float64(2), int64(4), object(5)\n",
      "memory usage: 83.5+ KB\n"
     ]
    }
   ],
   "source": [
    "data.info()"
   ]
  },
  {
   "cell_type": "markdown",
   "metadata": {},
   "source": [
    "De la instrucción anterior podemos ver que solo contamos con 891 registros para el entrenamiento. Este es un conjunto de datos bastante pequeño.\n",
    "\n",
    "También se obtiene la siguiente información sobre las variables del dataset:\n",
    "\n",
    "* ***Survived***: es la variable clase. Tipo int64.\n",
    "* ***Pclass***: tipo int64.\n",
    "* ***Name***: tipo object.\n",
    "* ***Sex***: tipo object.\n",
    "* ***Age***: tipo float64. Contiene 891-714 = 177 valores nulos.\n",
    "* ***SibSp***: tipo int64.\n",
    "* ***Parch***: tipo int64.\n",
    "* ***Ticket***: tipo object.\n",
    "* ***Fare***: tipo float64.\n",
    "* ***Cabin***: tipo object. Contiene 891-204 = 687 valores nulos.\n",
    "* ***Embarked***: tipo object. Contiene 891-889 = 2 valores nulos.\n",
    "\n",
    "Podemos ver el porcentaje de valores nulos que hay en el conjunto de datos."
   ]
  },
  {
   "cell_type": "code",
   "execution_count": 6,
   "metadata": {
    "execution": {
     "iopub.execute_input": "2023-01-31T15:30:49.396985Z",
     "iopub.status.busy": "2023-01-31T15:30:49.396019Z",
     "iopub.status.idle": "2023-01-31T15:30:49.407441Z",
     "shell.execute_reply": "2023-01-31T15:30:49.406155Z",
     "shell.execute_reply.started": "2023-01-31T15:30:49.396942Z"
    }
   },
   "outputs": [
    {
     "data": {
      "text/plain": [
       "Age         19.865320\n",
       "Cabin       77.104377\n",
       "Embarked     0.224467\n",
       "dtype: float64"
      ]
     },
     "execution_count": 6,
     "metadata": {},
     "output_type": "execute_result"
    }
   ],
   "source": [
    "missing_values=data.isnull().sum()\n",
    "missing_values[missing_values>0]/len(data)*100"
   ]
  },
  {
   "cell_type": "markdown",
   "metadata": {},
   "source": [
    "## 3.1. Análisis univariado"
   ]
  },
  {
   "cell_type": "markdown",
   "metadata": {},
   "source": [
    "Vamos a empezar obteniendo un resumen de la información de los campos numéricos."
   ]
  },
  {
   "cell_type": "code",
   "execution_count": 7,
   "metadata": {
    "execution": {
     "iopub.execute_input": "2023-01-31T15:30:49.409981Z",
     "iopub.status.busy": "2023-01-31T15:30:49.409475Z",
     "iopub.status.idle": "2023-01-31T15:30:49.447611Z",
     "shell.execute_reply": "2023-01-31T15:30:49.446426Z",
     "shell.execute_reply.started": "2023-01-31T15:30:49.409930Z"
    }
   },
   "outputs": [
    {
     "data": {
      "text/html": [
       "<div>\n",
       "<style scoped>\n",
       "    .dataframe tbody tr th:only-of-type {\n",
       "        vertical-align: middle;\n",
       "    }\n",
       "\n",
       "    .dataframe tbody tr th {\n",
       "        vertical-align: top;\n",
       "    }\n",
       "\n",
       "    .dataframe thead th {\n",
       "        text-align: right;\n",
       "    }\n",
       "</style>\n",
       "<table border=\"1\" class=\"dataframe\">\n",
       "  <thead>\n",
       "    <tr style=\"text-align: right;\">\n",
       "      <th></th>\n",
       "      <th>Survived</th>\n",
       "      <th>Pclass</th>\n",
       "      <th>Age</th>\n",
       "      <th>SibSp</th>\n",
       "      <th>Parch</th>\n",
       "      <th>Fare</th>\n",
       "    </tr>\n",
       "  </thead>\n",
       "  <tbody>\n",
       "    <tr>\n",
       "      <th>count</th>\n",
       "      <td>891.000000</td>\n",
       "      <td>891.000000</td>\n",
       "      <td>714.000000</td>\n",
       "      <td>891.000000</td>\n",
       "      <td>891.000000</td>\n",
       "      <td>891.000000</td>\n",
       "    </tr>\n",
       "    <tr>\n",
       "      <th>mean</th>\n",
       "      <td>0.383838</td>\n",
       "      <td>2.308642</td>\n",
       "      <td>29.699118</td>\n",
       "      <td>0.523008</td>\n",
       "      <td>0.381594</td>\n",
       "      <td>32.204208</td>\n",
       "    </tr>\n",
       "    <tr>\n",
       "      <th>std</th>\n",
       "      <td>0.486592</td>\n",
       "      <td>0.836071</td>\n",
       "      <td>14.526497</td>\n",
       "      <td>1.102743</td>\n",
       "      <td>0.806057</td>\n",
       "      <td>49.693429</td>\n",
       "    </tr>\n",
       "    <tr>\n",
       "      <th>min</th>\n",
       "      <td>0.000000</td>\n",
       "      <td>1.000000</td>\n",
       "      <td>0.420000</td>\n",
       "      <td>0.000000</td>\n",
       "      <td>0.000000</td>\n",
       "      <td>0.000000</td>\n",
       "    </tr>\n",
       "    <tr>\n",
       "      <th>25%</th>\n",
       "      <td>0.000000</td>\n",
       "      <td>2.000000</td>\n",
       "      <td>20.125000</td>\n",
       "      <td>0.000000</td>\n",
       "      <td>0.000000</td>\n",
       "      <td>7.910400</td>\n",
       "    </tr>\n",
       "    <tr>\n",
       "      <th>50%</th>\n",
       "      <td>0.000000</td>\n",
       "      <td>3.000000</td>\n",
       "      <td>28.000000</td>\n",
       "      <td>0.000000</td>\n",
       "      <td>0.000000</td>\n",
       "      <td>14.454200</td>\n",
       "    </tr>\n",
       "    <tr>\n",
       "      <th>75%</th>\n",
       "      <td>1.000000</td>\n",
       "      <td>3.000000</td>\n",
       "      <td>38.000000</td>\n",
       "      <td>1.000000</td>\n",
       "      <td>0.000000</td>\n",
       "      <td>31.000000</td>\n",
       "    </tr>\n",
       "    <tr>\n",
       "      <th>max</th>\n",
       "      <td>1.000000</td>\n",
       "      <td>3.000000</td>\n",
       "      <td>80.000000</td>\n",
       "      <td>8.000000</td>\n",
       "      <td>6.000000</td>\n",
       "      <td>512.329200</td>\n",
       "    </tr>\n",
       "  </tbody>\n",
       "</table>\n",
       "</div>"
      ],
      "text/plain": [
       "         Survived      Pclass         Age       SibSp       Parch        Fare\n",
       "count  891.000000  891.000000  714.000000  891.000000  891.000000  891.000000\n",
       "mean     0.383838    2.308642   29.699118    0.523008    0.381594   32.204208\n",
       "std      0.486592    0.836071   14.526497    1.102743    0.806057   49.693429\n",
       "min      0.000000    1.000000    0.420000    0.000000    0.000000    0.000000\n",
       "25%      0.000000    2.000000   20.125000    0.000000    0.000000    7.910400\n",
       "50%      0.000000    3.000000   28.000000    0.000000    0.000000   14.454200\n",
       "75%      1.000000    3.000000   38.000000    1.000000    0.000000   31.000000\n",
       "max      1.000000    3.000000   80.000000    8.000000    6.000000  512.329200"
      ]
     },
     "execution_count": 7,
     "metadata": {},
     "output_type": "execute_result"
    }
   ],
   "source": [
    "data.describe()"
   ]
  },
  {
   "cell_type": "markdown",
   "metadata": {},
   "source": [
    "Con esta instrucción se obtiene información muy útil de todas las variables numéricas, como su valor máximo o su media.\n",
    "\n",
    "También nos permite detectar la presencia de outliers mediante el uso de los cuartiles y el valor máximo. Por ejemplo, para la variable `Age` observamos que el 75% de los datos tiene un valor inferior a 38, y sin embargo existe un valor máximo de 80, siendo este claramente un outlier. Se ha detectado la presencia de algún outlier para las variables:\n",
    "* Age\n",
    "* SibSp\n",
    "* Parch\n",
    "* Fare\n",
    "\n",
    "Vamos a visualizar la cantidad de outliers que presentan estas variables."
   ]
  },
  {
   "cell_type": "code",
   "execution_count": 8,
   "metadata": {
    "execution": {
     "iopub.execute_input": "2023-01-31T15:30:49.451133Z",
     "iopub.status.busy": "2023-01-31T15:30:49.450768Z",
     "iopub.status.idle": "2023-01-31T15:30:50.003792Z",
     "shell.execute_reply": "2023-01-31T15:30:50.002313Z",
     "shell.execute_reply.started": "2023-01-31T15:30:49.451099Z"
    }
   },
   "outputs": [
    {
     "data": {
      "image/png": "[encoded data removed]",
      "text/plain": [
       "<Figure size 1152x360 with 4 Axes>"
      ]
     },
     "metadata": {
      "needs_background": "light"
     },
     "output_type": "display_data"
    }
   ],
   "source": [
    "plt.figure(figsize=(16,5))\n",
    "\n",
    "features_outlier = ['Age', 'SibSp', 'Parch', 'Fare']\n",
    "for i,col in enumerate(features_outlier):    \n",
    "    plt.subplot(1,4,i + 1)\n",
    "    sns.boxplot(y=col, x='Survived', data=data)\n",
    "\n",
    "plt.show()"
   ]
  },
  {
   "cell_type": "markdown",
   "metadata": {},
   "source": [
    "Vamos a calcular cuantos outliers hay para cada una de estas variables:"
   ]
  },
  {
   "cell_type": "code",
   "execution_count": 9,
   "metadata": {
    "execution": {
     "iopub.execute_input": "2023-01-31T15:30:50.006817Z",
     "iopub.status.busy": "2023-01-31T15:30:50.005616Z",
     "iopub.status.idle": "2023-01-31T15:30:50.013806Z",
     "shell.execute_reply": "2023-01-31T15:30:50.012547Z",
     "shell.execute_reply.started": "2023-01-31T15:30:50.006764Z"
    }
   },
   "outputs": [],
   "source": [
    "def outlier_detect(feature, data):\n",
    "    outlier_index = {}\n",
    "\n",
    "    for col in feature:\n",
    "        Q1 = np.nanpercentile(data[col], 25)\n",
    "        Q3 = np.nanpercentile(data[col], 75)\n",
    "        IQR = Q3 - Q1\n",
    "        min_quartile = Q1 - 1.5*IQR\n",
    "        max_quartile = Q3 + 1.5*IQR\n",
    "        outlier_points = data[(data[col] < min_quartile) | (data[col] > max_quartile)]\n",
    "        outlier_index[col] = outlier_points[col]\n",
    "    return outlier_index"
   ]
  },
  {
   "cell_type": "code",
   "execution_count": 10,
   "metadata": {
    "execution": {
     "iopub.execute_input": "2023-01-31T15:30:50.016246Z",
     "iopub.status.busy": "2023-01-31T15:30:50.015796Z",
     "iopub.status.idle": "2023-01-31T15:30:50.032099Z",
     "shell.execute_reply": "2023-01-31T15:30:50.030784Z",
     "shell.execute_reply.started": "2023-01-31T15:30:50.016202Z"
    }
   },
   "outputs": [
    {
     "name": "stdout",
     "output_type": "stream",
     "text": [
      "Age :  11  outliers\n",
      "SibSp :  46  outliers\n",
      "Parch :  213  outliers\n",
      "Fare :  116  outliers\n"
     ]
    }
   ],
   "source": [
    "outliers = outlier_detect(features_outlier, data)\n",
    "\n",
    "for col in outliers:\n",
    "    print(col, ': ',len(outliers[col]) , ' outliers')"
   ]
  },
  {
   "cell_type": "markdown",
   "metadata": {},
   "source": [
    "Vamos a estudiar cada variable de forma independiente y como se relaciona cada variable con la variable clase, pero sin tener en cuenta la relación entre varias variables (análisis univariado). "
   ]
  },
  {
   "cell_type": "markdown",
   "metadata": {},
   "source": [
    "### Survived"
   ]
  },
  {
   "cell_type": "markdown",
   "metadata": {},
   "source": [
    "Primero vamos a ver la variable clase, que como observamos es una variable categórica que puede tomar los valores 0 (no sobrevivió) y 1 (sobrevivió)."
   ]
  },
  {
   "cell_type": "code",
   "execution_count": 11,
   "metadata": {
    "execution": {
     "iopub.execute_input": "2023-01-31T15:30:50.034402Z",
     "iopub.status.busy": "2023-01-31T15:30:50.033933Z",
     "iopub.status.idle": "2023-01-31T15:30:50.482735Z",
     "shell.execute_reply": "2023-01-31T15:30:50.481422Z",
     "shell.execute_reply.started": "2023-01-31T15:30:50.034339Z"
    }
   },
   "outputs": [
    {
     "data": {
      "text/plain": [
       "<AxesSubplot:xlabel='Survived', ylabel='count'>"
      ]
     },
     "execution_count": 11,
     "metadata": {},
     "output_type": "execute_result"
    },
    {
     "data": {
      "image/png": "[encoded data removed]",
      "text/plain": [
       "<Figure size 432x288 with 1 Axes>"
      ]
     },
     "metadata": {
      "needs_background": "light"
     },
     "output_type": "display_data"
    }
   ],
   "source": [
    "sns.countplot(x='Survived',data=data)"
   ]
  },
  {
   "cell_type": "code",
   "execution_count": 12,
   "metadata": {
    "execution": {
     "iopub.execute_input": "2023-01-31T15:30:50.484558Z",
     "iopub.status.busy": "2023-01-31T15:30:50.484196Z",
     "iopub.status.idle": "2023-01-31T15:30:50.493307Z",
     "shell.execute_reply": "2023-01-31T15:30:50.492447Z",
     "shell.execute_reply.started": "2023-01-31T15:30:50.484527Z"
    }
   },
   "outputs": [
    {
     "data": {
      "text/plain": [
       "0    549\n",
       "1    342\n",
       "Name: Survived, dtype: int64"
      ]
     },
     "execution_count": 12,
     "metadata": {},
     "output_type": "execute_result"
    }
   ],
   "source": [
    "data['Survived'].value_counts()"
   ]
  },
  {
   "cell_type": "markdown",
   "metadata": {},
   "source": [
    "Podemos ver que tenemos un dataset desbalanceado, en el que tenemos muchos más casos con 0 que con 1. Esto puede afectar en el entrenamiento por lo que hay que tenerlo en cuenta, también a la hora de elegir la métrica de evaluación. Aunque en este caso se utilizará el `accuracy` como métrica de evaluación porque es lo que se utiliza en la competición de kaggle para medir el rendimiento de los modelos y poder compararlo con los resultados de otras personas.\n",
    "\n",
    "Al tener un conjunto de datos desbalanceado se deberían de tener en cuenta métricas capaces de lidiar con este problema la `precisión`, el `recall` o el `balance accuracy`."
   ]
  },
  {
   "cell_type": "markdown",
   "metadata": {},
   "source": [
    "### Pclass"
   ]
  },
  {
   "cell_type": "markdown",
   "metadata": {},
   "source": [
    "Vamos a analizar la variable `Pclass` que almacena la clase del ticket del pasajero. Puede tomar los valores 1, 2 o 3."
   ]
  },
  {
   "cell_type": "code",
   "execution_count": 13,
   "metadata": {
    "execution": {
     "iopub.execute_input": "2023-01-31T15:30:50.494944Z",
     "iopub.status.busy": "2023-01-31T15:30:50.494556Z",
     "iopub.status.idle": "2023-01-31T15:30:50.691699Z",
     "shell.execute_reply": "2023-01-31T15:30:50.690511Z",
     "shell.execute_reply.started": "2023-01-31T15:30:50.494895Z"
    }
   },
   "outputs": [
    {
     "data": {
      "text/plain": [
       "<AxesSubplot:xlabel='Pclass', ylabel='count'>"
      ]
     },
     "execution_count": 13,
     "metadata": {},
     "output_type": "execute_result"
    },
    {
     "data": {
      "image/png": "[encoded data removed]",
      "text/plain": [
       "<Figure size 432x288 with 1 Axes>"
      ]
     },
     "metadata": {
      "needs_background": "light"
     },
     "output_type": "display_data"
    }
   ],
   "source": [
    "sns.countplot(x='Pclass',data=data)"
   ]
  },
  {
   "cell_type": "markdown",
   "metadata": {},
   "source": [
    "Vemos que había muchos más pasajeros de clase 3 que de clase 1 y de clase 2."
   ]
  },
  {
   "cell_type": "code",
   "execution_count": 14,
   "metadata": {
    "execution": {
     "iopub.execute_input": "2023-01-31T15:30:50.693412Z",
     "iopub.status.busy": "2023-01-31T15:30:50.693031Z",
     "iopub.status.idle": "2023-01-31T15:30:50.990841Z",
     "shell.execute_reply": "2023-01-31T15:30:50.989532Z",
     "shell.execute_reply.started": "2023-01-31T15:30:50.693374Z"
    }
   },
   "outputs": [
    {
     "data": {
      "text/plain": [
       "<AxesSubplot:xlabel='Pclass', ylabel='Survived'>"
      ]
     },
     "execution_count": 14,
     "metadata": {},
     "output_type": "execute_result"
    },
    {
     "data": {
      "image/png": "[encoded data removed]",
      "text/plain": [
       "<Figure size 432x288 with 1 Axes>"
      ]
     },
     "metadata": {
      "needs_background": "light"
     },
     "output_type": "display_data"
    }
   ],
   "source": [
    "sns.barplot(x=\"Pclass\", y =\"Survived\", data=data)"
   ]
  },
  {
   "cell_type": "markdown",
   "metadata": {},
   "source": [
    "Se puede observar que hay alguna relación directa entre la variable `Pclass` y `Survived`. Observamos que sobrevivieron más pasajeros de primera clase que de segunda y, a su vez, sobrevivieron más pasajeros de segunda que de tercera clase."
   ]
  },
  {
   "cell_type": "markdown",
   "metadata": {},
   "source": [
    "### Name"
   ]
  },
  {
   "cell_type": "markdown",
   "metadata": {},
   "source": [
    "La variable `Name` indica el nombre de los pasajeros, y a priori no aporta información relevante al problema, por lo que se eliminará en el preprocesamiento.\n",
    "\n",
    "Aunque si observamos algunos valores podemos detectar que los nombres suelen empezar por un título (Mr, Miss...). Se puede generar una nueva característica categóritca que indique el título."
   ]
  },
  {
   "cell_type": "code",
   "execution_count": 15,
   "metadata": {
    "execution": {
     "iopub.execute_input": "2023-01-31T15:30:51.010263Z",
     "iopub.status.busy": "2023-01-31T15:30:51.009810Z",
     "iopub.status.idle": "2023-01-31T15:30:51.020672Z",
     "shell.execute_reply": "2023-01-31T15:30:51.019421Z",
     "shell.execute_reply.started": "2023-01-31T15:30:51.010231Z"
    }
   },
   "outputs": [
    {
     "data": {
      "text/plain": [
       "Braund, Mr. Owen Harris                     1\n",
       "Boulos, Mr. Hanna                           1\n",
       "Frolicher-Stehli, Mr. Maxmillian            1\n",
       "Gilinski, Mr. Eliezer                       1\n",
       "Murdlin, Mr. Joseph                         1\n",
       "                                           ..\n",
       "Kelly, Miss. Anna Katherine \"Annie Kate\"    1\n",
       "McCoy, Mr. Bernard                          1\n",
       "Johnson, Mr. William Cahoone Jr             1\n",
       "Keane, Miss. Nora A                         1\n",
       "Dooley, Mr. Patrick                         1\n",
       "Name: Name, Length: 891, dtype: int64"
      ]
     },
     "execution_count": 15,
     "metadata": {},
     "output_type": "execute_result"
    }
   ],
   "source": [
    "data['Name'].value_counts()"
   ]
  },
  {
   "cell_type": "markdown",
   "metadata": {},
   "source": [
    "### Sex\n",
    "\n",
    "La variable `Sex` (male o female) cuenta con muchos más hombres que mujeres."
   ]
  },
  {
   "cell_type": "code",
   "execution_count": 16,
   "metadata": {
    "execution": {
     "iopub.execute_input": "2023-01-31T15:30:51.022755Z",
     "iopub.status.busy": "2023-01-31T15:30:51.022426Z",
     "iopub.status.idle": "2023-01-31T15:30:51.219304Z",
     "shell.execute_reply": "2023-01-31T15:30:51.218045Z",
     "shell.execute_reply.started": "2023-01-31T15:30:51.022726Z"
    }
   },
   "outputs": [
    {
     "data": {
      "text/plain": [
       "<AxesSubplot:xlabel='Sex', ylabel='count'>"
      ]
     },
     "execution_count": 16,
     "metadata": {},
     "output_type": "execute_result"
    },
    {
     "data": {
      "image/png": "[encoded data removed]",
      "text/plain": [
       "<Figure size 432x288 with 1 Axes>"
      ]
     },
     "metadata": {
      "needs_background": "light"
     },
     "output_type": "display_data"
    }
   ],
   "source": [
    "sns.countplot(x='Sex',data=data)"
   ]
  },
  {
   "cell_type": "code",
   "execution_count": 17,
   "metadata": {
    "execution": {
     "iopub.execute_input": "2023-01-31T15:30:51.221239Z",
     "iopub.status.busy": "2023-01-31T15:30:51.220828Z",
     "iopub.status.idle": "2023-01-31T15:30:51.428559Z",
     "shell.execute_reply": "2023-01-31T15:30:51.427531Z",
     "shell.execute_reply.started": "2023-01-31T15:30:51.221207Z"
    }
   },
   "outputs": [
    {
     "data": {
      "text/plain": [
       "<AxesSubplot:xlabel='Sex', ylabel='Survived'>"
      ]
     },
     "execution_count": 17,
     "metadata": {},
     "output_type": "execute_result"
    },
    {
     "data": {
      "image/png": "[encoded data removed]",
      "text/plain": [
       "<Figure size 432x288 with 1 Axes>"
      ]
     },
     "metadata": {
      "needs_background": "light"
     },
     "output_type": "display_data"
    }
   ],
   "source": [
    "sns.barplot(x=\"Sex\", y =\"Survived\", data=data)"
   ]
  },
  {
   "cell_type": "markdown",
   "metadata": {},
   "source": [
    "Se observa que hay alguna relación entre la variable clase y la variable `Sex`, ya que sobreviven muchos más pasajeros que son mujeres frente a los hombres."
   ]
  },
  {
   "cell_type": "markdown",
   "metadata": {},
   "source": [
    "### Age\n",
    "\n",
    "Indica la edad del pasajero y es una variable numérica."
   ]
  },
  {
   "cell_type": "code",
   "execution_count": 18,
   "metadata": {
    "execution": {
     "iopub.execute_input": "2023-01-31T15:30:51.437563Z",
     "iopub.status.busy": "2023-01-31T15:30:51.436764Z",
     "iopub.status.idle": "2023-01-31T15:30:51.663124Z",
     "shell.execute_reply": "2023-01-31T15:30:51.662241Z",
     "shell.execute_reply.started": "2023-01-31T15:30:51.437525Z"
    }
   },
   "outputs": [
    {
     "name": "stderr",
     "output_type": "stream",
     "text": [
      "C:\\Users\\angel\\anaconda3\\lib\\site-packages\\seaborn\\distributions.py:2619: FutureWarning: `distplot` is a deprecated function and will be removed in a future version. Please adapt your code to use either `displot` (a figure-level function with similar flexibility) or `histplot` (an axes-level function for histograms).\n",
      "  warnings.warn(msg, FutureWarning)\n"
     ]
    },
    {
     "data": {
      "text/plain": [
       "<AxesSubplot:xlabel='Age', ylabel='Density'>"
      ]
     },
     "execution_count": 18,
     "metadata": {},
     "output_type": "execute_result"
    },
    {
     "data": {
      "image/png": "[encoded data removed]",
      "text/plain": [
       "<Figure size 432x288 with 1 Axes>"
      ]
     },
     "metadata": {
      "needs_background": "light"
     },
     "output_type": "display_data"
    }
   ],
   "source": [
    "sns.distplot(data['Age'])"
   ]
  },
  {
   "cell_type": "code",
   "execution_count": 19,
   "metadata": {
    "execution": {
     "iopub.execute_input": "2023-01-31T15:30:51.665911Z",
     "iopub.status.busy": "2023-01-31T15:30:51.664779Z",
     "iopub.status.idle": "2023-01-31T15:30:52.215966Z",
     "shell.execute_reply": "2023-01-31T15:30:52.214434Z",
     "shell.execute_reply.started": "2023-01-31T15:30:51.665863Z"
    }
   },
   "outputs": [
    {
     "data": {
      "text/plain": [
       "<seaborn.axisgrid.FacetGrid at 0x23597d65a90>"
      ]
     },
     "execution_count": 19,
     "metadata": {},
     "output_type": "execute_result"
    },
    {
     "data": {
      "image/png": "[encoded data removed]",
      "text/plain": [
       "<Figure size 720x360 with 2 Axes>"
      ]
     },
     "metadata": {
      "needs_background": "light"
     },
     "output_type": "display_data"
    }
   ],
   "source": [
    "sns.displot(data=data, x='Age', col='Survived', kde=True)"
   ]
  },
  {
   "cell_type": "markdown",
   "metadata": {},
   "source": [
    "Aparentemente no hay ninguna relación entre la variable clase y la edad de los pasajeros, ya que ambas gráficas siguen un distribución normal de manera similar. Por lo que parece que esta variable por si sola no aporta información."
   ]
  },
  {
   "cell_type": "markdown",
   "metadata": {},
   "source": [
    "### SibSp\n",
    "\n",
    "La variable indica la cantidad de hermanos/esposos que había a bordo del barco."
   ]
  },
  {
   "cell_type": "code",
   "execution_count": 20,
   "metadata": {
    "execution": {
     "iopub.execute_input": "2023-01-31T15:30:52.219045Z",
     "iopub.status.busy": "2023-01-31T15:30:52.218686Z",
     "iopub.status.idle": "2023-01-31T15:30:52.394373Z",
     "shell.execute_reply": "2023-01-31T15:30:52.392636Z",
     "shell.execute_reply.started": "2023-01-31T15:30:52.219009Z"
    }
   },
   "outputs": [
    {
     "data": {
      "text/plain": [
       "<AxesSubplot:xlabel='SibSp', ylabel='count'>"
      ]
     },
     "execution_count": 20,
     "metadata": {},
     "output_type": "execute_result"
    },
    {
     "data": {
      "image/png": "[encoded data removed]",
      "text/plain": [
       "<Figure size 432x288 with 1 Axes>"
      ]
     },
     "metadata": {
      "needs_background": "light"
     },
     "output_type": "display_data"
    }
   ],
   "source": [
    "sns.countplot(x='SibSp',data=data)"
   ]
  },
  {
   "cell_type": "markdown",
   "metadata": {},
   "source": [
    "Podemos observar que la mayoría de pasajeros tenían 0 o 1 hermano/esposo. No habiendo casi pasajeros con más de 1. Además se ha detectado la presencia de outliers tal y como vimos anteriormente."
   ]
  },
  {
   "cell_type": "code",
   "execution_count": 21,
   "metadata": {
    "execution": {
     "iopub.execute_input": "2023-01-31T15:30:52.398002Z",
     "iopub.status.busy": "2023-01-31T15:30:52.396930Z",
     "iopub.status.idle": "2023-01-31T15:30:52.816665Z",
     "shell.execute_reply": "2023-01-31T15:30:52.815419Z",
     "shell.execute_reply.started": "2023-01-31T15:30:52.397920Z"
    }
   },
   "outputs": [
    {
     "data": {
      "text/plain": [
       "<AxesSubplot:xlabel='SibSp', ylabel='Survived'>"
      ]
     },
     "execution_count": 21,
     "metadata": {},
     "output_type": "execute_result"
    },
    {
     "data": {
      "image/png": "[encoded data removed]",
      "text/plain": [
       "<Figure size 432x288 with 1 Axes>"
      ]
     },
     "metadata": {
      "needs_background": "light"
     },
     "output_type": "display_data"
    }
   ],
   "source": [
    "sns.barplot(x=\"SibSp\", y =\"Survived\", data=data)"
   ]
  },
  {
   "cell_type": "markdown",
   "metadata": {},
   "source": [
    "Aunque para esta variable hay que tener cuidado con los outlier, parece que hay alguna relación con la variable clase, ya que los pasajeros que tenían algún hermano/esposo a bordo sobrevivieron más."
   ]
  },
  {
   "cell_type": "markdown",
   "metadata": {},
   "source": [
    "### Parch\n",
    "\n",
    "Indica la cantidad de padres / hijos que había a bordo del barco."
   ]
  },
  {
   "cell_type": "code",
   "execution_count": 22,
   "metadata": {
    "execution": {
     "iopub.execute_input": "2023-01-31T15:30:52.818721Z",
     "iopub.status.busy": "2023-01-31T15:30:52.818221Z",
     "iopub.status.idle": "2023-01-31T15:30:53.053053Z",
     "shell.execute_reply": "2023-01-31T15:30:53.051769Z",
     "shell.execute_reply.started": "2023-01-31T15:30:52.818672Z"
    }
   },
   "outputs": [
    {
     "data": {
      "text/plain": [
       "<AxesSubplot:xlabel='Parch', ylabel='count'>"
      ]
     },
     "execution_count": 22,
     "metadata": {},
     "output_type": "execute_result"
    },
    {
     "data": {
      "image/png": "[encoded data removed]",
      "text/plain": [
       "<Figure size 432x288 with 1 Axes>"
      ]
     },
     "metadata": {
      "needs_background": "light"
     },
     "output_type": "display_data"
    }
   ],
   "source": [
    "sns.countplot(x='Parch',data=data)"
   ]
  },
  {
   "cell_type": "markdown",
   "metadata": {},
   "source": [
    "La mayoría de pasajeros no tenían ningún padre / hijo a bordo. No habiendo casi casos con 1 o más (outliers)."
   ]
  },
  {
   "cell_type": "code",
   "execution_count": 23,
   "metadata": {
    "execution": {
     "iopub.execute_input": "2023-01-31T15:30:53.055172Z",
     "iopub.status.busy": "2023-01-31T15:30:53.054807Z",
     "iopub.status.idle": "2023-01-31T15:30:53.463079Z",
     "shell.execute_reply": "2023-01-31T15:30:53.462059Z",
     "shell.execute_reply.started": "2023-01-31T15:30:53.055140Z"
    }
   },
   "outputs": [
    {
     "data": {
      "text/plain": [
       "<AxesSubplot:xlabel='Parch', ylabel='Survived'>"
      ]
     },
     "execution_count": 23,
     "metadata": {},
     "output_type": "execute_result"
    },
    {
     "data": {
      "image/png": "[encoded data removed]",
      "text/plain": [
       "<Figure size 432x288 with 1 Axes>"
      ]
     },
     "metadata": {
      "needs_background": "light"
     },
     "output_type": "display_data"
    }
   ],
   "source": [
    "sns.barplot(x=\"Parch\", y =\"Survived\", data=data)"
   ]
  },
  {
   "cell_type": "markdown",
   "metadata": {},
   "source": [
    "A simple vista parece que esta variable tiene relación con la variable clase debido a que los pasajeros con padres o hijos a bordo sobrevivieron más que los que no tenían ni padres ni hijos a bordo.\n",
    "\n",
    "Esta variable se puede combinar (mediante suma) con la variable `SibSp` que indica la cantidad de hermanos/esposos que hay a bordo y obtener una variable que indique la cantidad de familiares que tenían los pasajeros a bordo."
   ]
  },
  {
   "cell_type": "markdown",
   "metadata": {},
   "source": [
    "### Fare\n",
    "\n",
    "Es un valor numérico con el precio del ticket."
   ]
  },
  {
   "cell_type": "code",
   "execution_count": 24,
   "metadata": {
    "execution": {
     "iopub.execute_input": "2023-01-31T15:30:53.465339Z",
     "iopub.status.busy": "2023-01-31T15:30:53.464896Z",
     "iopub.status.idle": "2023-01-31T15:30:53.796990Z",
     "shell.execute_reply": "2023-01-31T15:30:53.795845Z",
     "shell.execute_reply.started": "2023-01-31T15:30:53.465297Z"
    }
   },
   "outputs": [
    {
     "name": "stderr",
     "output_type": "stream",
     "text": [
      "C:\\Users\\angel\\anaconda3\\lib\\site-packages\\seaborn\\distributions.py:2619: FutureWarning: `distplot` is a deprecated function and will be removed in a future version. Please adapt your code to use either `displot` (a figure-level function with similar flexibility) or `histplot` (an axes-level function for histograms).\n",
      "  warnings.warn(msg, FutureWarning)\n"
     ]
    },
    {
     "data": {
      "text/plain": [
       "<AxesSubplot:xlabel='Fare', ylabel='Density'>"
      ]
     },
     "execution_count": 24,
     "metadata": {},
     "output_type": "execute_result"
    },
    {
     "data": {
      "image/png": "[encoded data removed]",
      "text/plain": [
       "<Figure size 432x288 with 1 Axes>"
      ]
     },
     "metadata": {
      "needs_background": "light"
     },
     "output_type": "display_data"
    }
   ],
   "source": [
    "sns.distplot(data['Fare'])"
   ]
  },
  {
   "cell_type": "code",
   "execution_count": 25,
   "metadata": {
    "execution": {
     "iopub.execute_input": "2023-01-31T15:30:53.799284Z",
     "iopub.status.busy": "2023-01-31T15:30:53.798821Z",
     "iopub.status.idle": "2023-01-31T15:30:54.732373Z",
     "shell.execute_reply": "2023-01-31T15:30:54.731236Z",
     "shell.execute_reply.started": "2023-01-31T15:30:53.799240Z"
    }
   },
   "outputs": [
    {
     "data": {
      "text/plain": [
       "<seaborn.axisgrid.FacetGrid at 0x235993f0c40>"
      ]
     },
     "execution_count": 25,
     "metadata": {},
     "output_type": "execute_result"
    },
    {
     "data": {
      "image/png": "[encoded data removed]",
      "text/plain": [
       "<Figure size 720x360 with 2 Axes>"
      ]
     },
     "metadata": {
      "needs_background": "light"
     },
     "output_type": "display_data"
    }
   ],
   "source": [
    "sns.displot(data=data, x='Fare', col='Survived', kde=True)"
   ]
  },
  {
   "cell_type": "markdown",
   "metadata": {},
   "source": [
    "Al igual que con la variable `Age`, parece que la variable `Fare` no aporta información por si sola, ya que las dos gráficas anteriores siguen una distribución normal. Además, hay que tener cuidado con los outliers que tiene esta variable."
   ]
  },
  {
   "cell_type": "markdown",
   "metadata": {},
   "source": [
    "### Ticket\n",
    "\n",
    "Almacena el número del ticket. Si observamos la cantidad de valores que puede tomar esta variable, vemos la mayoría son únicos. Además no parece que se pueda extraer algún patrón ni generar otra variable a partir de esta. Por lo que parece que esta variable es irrelevante para el problema."
   ]
  },
  {
   "cell_type": "code",
   "execution_count": 26,
   "metadata": {
    "execution": {
     "iopub.execute_input": "2023-01-31T15:30:54.734054Z",
     "iopub.status.busy": "2023-01-31T15:30:54.733739Z",
     "iopub.status.idle": "2023-01-31T15:30:54.744490Z",
     "shell.execute_reply": "2023-01-31T15:30:54.742982Z",
     "shell.execute_reply.started": "2023-01-31T15:30:54.734019Z"
    }
   },
   "outputs": [
    {
     "data": {
      "text/plain": [
       "PassengerId\n",
       "710                2661\n",
       "440          C.A. 18723\n",
       "841    SOTON/O2 3101287\n",
       "721              248727\n",
       "40                 2651\n",
       "291               19877\n",
       "301                9234\n",
       "334              345764\n",
       "209              367231\n",
       "137               11752\n",
       "138              113803\n",
       "697              363592\n",
       "486                4133\n",
       "245                2694\n",
       "345              229236\n",
       "854            PC 17592\n",
       "622               11753\n",
       "654              330919\n",
       "887              211536\n",
       "111              110465\n",
       "Name: Ticket, dtype: object"
      ]
     },
     "execution_count": 26,
     "metadata": {},
     "output_type": "execute_result"
    }
   ],
   "source": [
    "data['Ticket'].sample(20, random_state=seed)"
   ]
  },
  {
   "cell_type": "code",
   "execution_count": 27,
   "metadata": {
    "execution": {
     "iopub.execute_input": "2023-01-31T15:30:54.746406Z",
     "iopub.status.busy": "2023-01-31T15:30:54.745957Z",
     "iopub.status.idle": "2023-01-31T15:30:54.760308Z",
     "shell.execute_reply": "2023-01-31T15:30:54.759211Z",
     "shell.execute_reply.started": "2023-01-31T15:30:54.746316Z"
    }
   },
   "outputs": [
    {
     "data": {
      "text/plain": [
       "347082      7\n",
       "CA. 2343    7\n",
       "1601        7\n",
       "3101295     6\n",
       "CA 2144     6\n",
       "           ..\n",
       "9234        1\n",
       "19988       1\n",
       "2693        1\n",
       "PC 17612    1\n",
       "370376      1\n",
       "Name: Ticket, Length: 681, dtype: int64"
      ]
     },
     "execution_count": 27,
     "metadata": {},
     "output_type": "execute_result"
    }
   ],
   "source": [
    "data['Ticket'].value_counts() # mayoria de los valores son unicos"
   ]
  },
  {
   "cell_type": "markdown",
   "metadata": {},
   "source": [
    "### Cabin\n",
    "\n",
    "Indica la categoría de la cabina. La mayoría de valores para esta variable son únicos, aunque a lo mejor se podría generar una nueva característica a partir de esta cogiendo solo la primera letra de la cabina. \n",
    "\n",
    "Aunque en este caso no se utilizará esta variable y se eliminará directamente porque la mayoría de sus valores son nulos."
   ]
  },
  {
   "cell_type": "code",
   "execution_count": 28,
   "metadata": {
    "execution": {
     "iopub.execute_input": "2023-01-31T15:30:54.763286Z",
     "iopub.status.busy": "2023-01-31T15:30:54.761764Z",
     "iopub.status.idle": "2023-01-31T15:30:54.774013Z",
     "shell.execute_reply": "2023-01-31T15:30:54.772604Z",
     "shell.execute_reply.started": "2023-01-31T15:30:54.763247Z"
    }
   },
   "outputs": [
    {
     "data": {
      "text/plain": [
       "B96 B98        4\n",
       "G6             4\n",
       "C23 C25 C27    4\n",
       "C22 C26        3\n",
       "F33            3\n",
       "              ..\n",
       "E34            1\n",
       "C7             1\n",
       "C54            1\n",
       "E36            1\n",
       "C148           1\n",
       "Name: Cabin, Length: 147, dtype: int64"
      ]
     },
     "execution_count": 28,
     "metadata": {},
     "output_type": "execute_result"
    }
   ],
   "source": [
    "data['Cabin'].value_counts()"
   ]
  },
  {
   "cell_type": "markdown",
   "metadata": {},
   "source": [
    "### Embarked\n",
    "\n",
    "Indica el puerto desde el que se embarcó (C, Q o S). La mayoría de los pasajeros embarcó en el puerto S."
   ]
  },
  {
   "cell_type": "code",
   "execution_count": 29,
   "metadata": {
    "execution": {
     "iopub.execute_input": "2023-01-31T15:30:54.775908Z",
     "iopub.status.busy": "2023-01-31T15:30:54.775472Z",
     "iopub.status.idle": "2023-01-31T15:30:54.982588Z",
     "shell.execute_reply": "2023-01-31T15:30:54.981449Z",
     "shell.execute_reply.started": "2023-01-31T15:30:54.775873Z"
    }
   },
   "outputs": [
    {
     "data": {
      "text/plain": [
       "<AxesSubplot:xlabel='Embarked', ylabel='count'>"
      ]
     },
     "execution_count": 29,
     "metadata": {},
     "output_type": "execute_result"
    },
    {
     "data": {
      "image/png": "[encoded data removed]",
      "text/plain": [
       "<Figure size 432x288 with 1 Axes>"
      ]
     },
     "metadata": {
      "needs_background": "light"
     },
     "output_type": "display_data"
    }
   ],
   "source": [
    "sns.countplot(x='Embarked',data=data)"
   ]
  },
  {
   "cell_type": "code",
   "execution_count": 30,
   "metadata": {
    "execution": {
     "iopub.execute_input": "2023-01-31T15:30:54.984434Z",
     "iopub.status.busy": "2023-01-31T15:30:54.984078Z",
     "iopub.status.idle": "2023-01-31T15:30:55.272080Z",
     "shell.execute_reply": "2023-01-31T15:30:55.270833Z",
     "shell.execute_reply.started": "2023-01-31T15:30:54.984401Z"
    }
   },
   "outputs": [
    {
     "data": {
      "text/plain": [
       "<AxesSubplot:xlabel='Embarked', ylabel='Survived'>"
      ]
     },
     "execution_count": 30,
     "metadata": {},
     "output_type": "execute_result"
    },
    {
     "data": {
      "image/png": "[encoded data removed]",
      "text/plain": [
       "<Figure size 432x288 with 1 Axes>"
      ]
     },
     "metadata": {
      "needs_background": "light"
     },
     "output_type": "display_data"
    }
   ],
   "source": [
    "sns.barplot(x=\"Embarked\", y =\"Survived\", data=data)"
   ]
  },
  {
   "cell_type": "markdown",
   "metadata": {},
   "source": [
    "Podemos observar que hay relación entre esta variable y la variable clase. Según se observa los pasajeros que embarcaron en el puerto C sobrevivieron mas que los que embarcaron en los puertos S o Q."
   ]
  },
  {
   "cell_type": "markdown",
   "metadata": {},
   "source": [
    "\n",
    "\n"
   ]
  },
  {
   "cell_type": "markdown",
   "metadata": {},
   "source": [
    "## 3.2. Construcción de nuevas características"
   ]
  },
  {
   "cell_type": "markdown",
   "metadata": {},
   "source": [
    "### Título\n",
    "\n",
    "Como se vio en el análisis univariado la variable `Name` por si sola no aporta información ya que contiene valores únicos, pero se observó que todos los nombres incluyen un título para cada persona. Se va a construir una nueva característica con dicho título con la esperanza de que pueda aportar algo de información al problema."
   ]
  },
  {
   "cell_type": "code",
   "execution_count": 31,
   "metadata": {
    "execution": {
     "iopub.execute_input": "2023-01-31T15:30:55.274074Z",
     "iopub.status.busy": "2023-01-31T15:30:55.273732Z",
     "iopub.status.idle": "2023-01-31T15:30:55.300506Z",
     "shell.execute_reply": "2023-01-31T15:30:55.299631Z",
     "shell.execute_reply.started": "2023-01-31T15:30:55.274043Z"
    }
   },
   "outputs": [
    {
     "data": {
      "text/html": [
       "<div>\n",
       "<style scoped>\n",
       "    .dataframe tbody tr th:only-of-type {\n",
       "        vertical-align: middle;\n",
       "    }\n",
       "\n",
       "    .dataframe tbody tr th {\n",
       "        vertical-align: top;\n",
       "    }\n",
       "\n",
       "    .dataframe thead th {\n",
       "        text-align: right;\n",
       "    }\n",
       "</style>\n",
       "<table border=\"1\" class=\"dataframe\">\n",
       "  <thead>\n",
       "    <tr style=\"text-align: right;\">\n",
       "      <th></th>\n",
       "      <th>Survived</th>\n",
       "      <th>Pclass</th>\n",
       "      <th>Name</th>\n",
       "      <th>Sex</th>\n",
       "      <th>Age</th>\n",
       "      <th>SibSp</th>\n",
       "      <th>Parch</th>\n",
       "      <th>Ticket</th>\n",
       "      <th>Fare</th>\n",
       "      <th>Cabin</th>\n",
       "      <th>Embarked</th>\n",
       "      <th>Title</th>\n",
       "    </tr>\n",
       "    <tr>\n",
       "      <th>PassengerId</th>\n",
       "      <th></th>\n",
       "      <th></th>\n",
       "      <th></th>\n",
       "      <th></th>\n",
       "      <th></th>\n",
       "      <th></th>\n",
       "      <th></th>\n",
       "      <th></th>\n",
       "      <th></th>\n",
       "      <th></th>\n",
       "      <th></th>\n",
       "      <th></th>\n",
       "    </tr>\n",
       "  </thead>\n",
       "  <tbody>\n",
       "    <tr>\n",
       "      <th>710</th>\n",
       "      <td>1</td>\n",
       "      <td>3</td>\n",
       "      <td>Moubarek, Master. Halim Gonios (\"William George\")</td>\n",
       "      <td>male</td>\n",
       "      <td>NaN</td>\n",
       "      <td>1</td>\n",
       "      <td>1</td>\n",
       "      <td>2661</td>\n",
       "      <td>15.2458</td>\n",
       "      <td>NaN</td>\n",
       "      <td>C</td>\n",
       "      <td>Master</td>\n",
       "    </tr>\n",
       "    <tr>\n",
       "      <th>440</th>\n",
       "      <td>0</td>\n",
       "      <td>2</td>\n",
       "      <td>Kvillner, Mr. Johan Henrik Johannesson</td>\n",
       "      <td>male</td>\n",
       "      <td>31.0</td>\n",
       "      <td>0</td>\n",
       "      <td>0</td>\n",
       "      <td>C.A. 18723</td>\n",
       "      <td>10.5000</td>\n",
       "      <td>NaN</td>\n",
       "      <td>S</td>\n",
       "      <td>Mr</td>\n",
       "    </tr>\n",
       "    <tr>\n",
       "      <th>841</th>\n",
       "      <td>0</td>\n",
       "      <td>3</td>\n",
       "      <td>Alhomaki, Mr. Ilmari Rudolf</td>\n",
       "      <td>male</td>\n",
       "      <td>20.0</td>\n",
       "      <td>0</td>\n",
       "      <td>0</td>\n",
       "      <td>SOTON/O2 3101287</td>\n",
       "      <td>7.9250</td>\n",
       "      <td>NaN</td>\n",
       "      <td>S</td>\n",
       "      <td>Mr</td>\n",
       "    </tr>\n",
       "    <tr>\n",
       "      <th>721</th>\n",
       "      <td>1</td>\n",
       "      <td>2</td>\n",
       "      <td>Harper, Miss. Annie Jessie \"Nina\"</td>\n",
       "      <td>female</td>\n",
       "      <td>6.0</td>\n",
       "      <td>0</td>\n",
       "      <td>1</td>\n",
       "      <td>248727</td>\n",
       "      <td>33.0000</td>\n",
       "      <td>NaN</td>\n",
       "      <td>S</td>\n",
       "      <td>Miss</td>\n",
       "    </tr>\n",
       "    <tr>\n",
       "      <th>40</th>\n",
       "      <td>1</td>\n",
       "      <td>3</td>\n",
       "      <td>Nicola-Yarred, Miss. Jamila</td>\n",
       "      <td>female</td>\n",
       "      <td>14.0</td>\n",
       "      <td>1</td>\n",
       "      <td>0</td>\n",
       "      <td>2651</td>\n",
       "      <td>11.2417</td>\n",
       "      <td>NaN</td>\n",
       "      <td>C</td>\n",
       "      <td>Miss</td>\n",
       "    </tr>\n",
       "  </tbody>\n",
       "</table>\n",
       "</div>"
      ],
      "text/plain": [
       "             Survived  Pclass  \\\n",
       "PassengerId                     \n",
       "710                 1       3   \n",
       "440                 0       2   \n",
       "841                 0       3   \n",
       "721                 1       2   \n",
       "40                  1       3   \n",
       "\n",
       "                                                          Name     Sex   Age  \\\n",
       "PassengerId                                                                    \n",
       "710          Moubarek, Master. Halim Gonios (\"William George\")    male   NaN   \n",
       "440                     Kvillner, Mr. Johan Henrik Johannesson    male  31.0   \n",
       "841                                Alhomaki, Mr. Ilmari Rudolf    male  20.0   \n",
       "721                          Harper, Miss. Annie Jessie \"Nina\"  female   6.0   \n",
       "40                                 Nicola-Yarred, Miss. Jamila  female  14.0   \n",
       "\n",
       "             SibSp  Parch            Ticket     Fare Cabin Embarked   Title  \n",
       "PassengerId                                                                  \n",
       "710              1      1              2661  15.2458   NaN        C  Master  \n",
       "440              0      0        C.A. 18723  10.5000   NaN        S      Mr  \n",
       "841              0      0  SOTON/O2 3101287   7.9250   NaN        S      Mr  \n",
       "721              0      1            248727  33.0000   NaN        S    Miss  \n",
       "40               1      0              2651  11.2417   NaN        C    Miss  "
      ]
     },
     "execution_count": 31,
     "metadata": {},
     "output_type": "execute_result"
    }
   ],
   "source": [
    "data['Title'] = data['Name'].str.split(', ').str[1].str.split('.').str[0]\n",
    "data.sample(5, random_state=seed)"
   ]
  },
  {
   "cell_type": "markdown",
   "metadata": {
    "execution": {
     "iopub.execute_input": "2023-01-27T17:53:33.585477Z",
     "iopub.status.busy": "2023-01-27T17:53:33.585010Z",
     "iopub.status.idle": "2023-01-27T17:53:33.597377Z",
     "shell.execute_reply": "2023-01-27T17:53:33.595662Z",
     "shell.execute_reply.started": "2023-01-27T17:53:33.585439Z"
    }
   },
   "source": [
    "Vamos a comprobar que valores se han generado."
   ]
  },
  {
   "cell_type": "code",
   "execution_count": 32,
   "metadata": {
    "execution": {
     "iopub.execute_input": "2023-01-31T15:30:55.302227Z",
     "iopub.status.busy": "2023-01-31T15:30:55.301877Z",
     "iopub.status.idle": "2023-01-31T15:30:55.311711Z",
     "shell.execute_reply": "2023-01-31T15:30:55.310564Z",
     "shell.execute_reply.started": "2023-01-31T15:30:55.302194Z"
    }
   },
   "outputs": [
    {
     "data": {
      "text/plain": [
       "Mr              517\n",
       "Miss            182\n",
       "Mrs             125\n",
       "Master           40\n",
       "Dr                7\n",
       "Rev               6\n",
       "Mlle              2\n",
       "Major             2\n",
       "Col               2\n",
       "the Countess      1\n",
       "Capt              1\n",
       "Ms                1\n",
       "Sir               1\n",
       "Lady              1\n",
       "Mme               1\n",
       "Don               1\n",
       "Jonkheer          1\n",
       "Name: Title, dtype: int64"
      ]
     },
     "execution_count": 32,
     "metadata": {},
     "output_type": "execute_result"
    }
   ],
   "source": [
    "data['Title'].value_counts()"
   ]
  },
  {
   "cell_type": "markdown",
   "metadata": {},
   "source": [
    "Podemos observar que para las categorías `Mr`, `Miss` y `Mrs` hay bastantes ejemplos, pero para el resto no tienen casi instancias por lo que todas las categorías con menos de 50 valores se van a agrupar en una nueva categoría llamada `Other`."
   ]
  },
  {
   "cell_type": "code",
   "execution_count": 33,
   "metadata": {
    "execution": {
     "iopub.execute_input": "2023-01-31T15:30:55.313806Z",
     "iopub.status.busy": "2023-01-31T15:30:55.313426Z",
     "iopub.status.idle": "2023-01-31T15:30:55.336598Z",
     "shell.execute_reply": "2023-01-31T15:30:55.335583Z",
     "shell.execute_reply.started": "2023-01-31T15:30:55.313774Z"
    }
   },
   "outputs": [
    {
     "data": {
      "text/html": [
       "<div>\n",
       "<style scoped>\n",
       "    .dataframe tbody tr th:only-of-type {\n",
       "        vertical-align: middle;\n",
       "    }\n",
       "\n",
       "    .dataframe tbody tr th {\n",
       "        vertical-align: top;\n",
       "    }\n",
       "\n",
       "    .dataframe thead th {\n",
       "        text-align: right;\n",
       "    }\n",
       "</style>\n",
       "<table border=\"1\" class=\"dataframe\">\n",
       "  <thead>\n",
       "    <tr style=\"text-align: right;\">\n",
       "      <th></th>\n",
       "      <th>Survived</th>\n",
       "      <th>Pclass</th>\n",
       "      <th>Name</th>\n",
       "      <th>Sex</th>\n",
       "      <th>Age</th>\n",
       "      <th>SibSp</th>\n",
       "      <th>Parch</th>\n",
       "      <th>Ticket</th>\n",
       "      <th>Fare</th>\n",
       "      <th>Cabin</th>\n",
       "      <th>Embarked</th>\n",
       "      <th>Title</th>\n",
       "    </tr>\n",
       "    <tr>\n",
       "      <th>PassengerId</th>\n",
       "      <th></th>\n",
       "      <th></th>\n",
       "      <th></th>\n",
       "      <th></th>\n",
       "      <th></th>\n",
       "      <th></th>\n",
       "      <th></th>\n",
       "      <th></th>\n",
       "      <th></th>\n",
       "      <th></th>\n",
       "      <th></th>\n",
       "      <th></th>\n",
       "    </tr>\n",
       "  </thead>\n",
       "  <tbody>\n",
       "    <tr>\n",
       "      <th>710</th>\n",
       "      <td>1</td>\n",
       "      <td>3</td>\n",
       "      <td>Moubarek, Master. Halim Gonios (\"William George\")</td>\n",
       "      <td>male</td>\n",
       "      <td>NaN</td>\n",
       "      <td>1</td>\n",
       "      <td>1</td>\n",
       "      <td>2661</td>\n",
       "      <td>15.2458</td>\n",
       "      <td>NaN</td>\n",
       "      <td>C</td>\n",
       "      <td>Other</td>\n",
       "    </tr>\n",
       "    <tr>\n",
       "      <th>440</th>\n",
       "      <td>0</td>\n",
       "      <td>2</td>\n",
       "      <td>Kvillner, Mr. Johan Henrik Johannesson</td>\n",
       "      <td>male</td>\n",
       "      <td>31.0</td>\n",
       "      <td>0</td>\n",
       "      <td>0</td>\n",
       "      <td>C.A. 18723</td>\n",
       "      <td>10.5000</td>\n",
       "      <td>NaN</td>\n",
       "      <td>S</td>\n",
       "      <td>Mr</td>\n",
       "    </tr>\n",
       "    <tr>\n",
       "      <th>841</th>\n",
       "      <td>0</td>\n",
       "      <td>3</td>\n",
       "      <td>Alhomaki, Mr. Ilmari Rudolf</td>\n",
       "      <td>male</td>\n",
       "      <td>20.0</td>\n",
       "      <td>0</td>\n",
       "      <td>0</td>\n",
       "      <td>SOTON/O2 3101287</td>\n",
       "      <td>7.9250</td>\n",
       "      <td>NaN</td>\n",
       "      <td>S</td>\n",
       "      <td>Mr</td>\n",
       "    </tr>\n",
       "    <tr>\n",
       "      <th>721</th>\n",
       "      <td>1</td>\n",
       "      <td>2</td>\n",
       "      <td>Harper, Miss. Annie Jessie \"Nina\"</td>\n",
       "      <td>female</td>\n",
       "      <td>6.0</td>\n",
       "      <td>0</td>\n",
       "      <td>1</td>\n",
       "      <td>248727</td>\n",
       "      <td>33.0000</td>\n",
       "      <td>NaN</td>\n",
       "      <td>S</td>\n",
       "      <td>Miss</td>\n",
       "    </tr>\n",
       "    <tr>\n",
       "      <th>40</th>\n",
       "      <td>1</td>\n",
       "      <td>3</td>\n",
       "      <td>Nicola-Yarred, Miss. Jamila</td>\n",
       "      <td>female</td>\n",
       "      <td>14.0</td>\n",
       "      <td>1</td>\n",
       "      <td>0</td>\n",
       "      <td>2651</td>\n",
       "      <td>11.2417</td>\n",
       "      <td>NaN</td>\n",
       "      <td>C</td>\n",
       "      <td>Miss</td>\n",
       "    </tr>\n",
       "  </tbody>\n",
       "</table>\n",
       "</div>"
      ],
      "text/plain": [
       "             Survived  Pclass  \\\n",
       "PassengerId                     \n",
       "710                 1       3   \n",
       "440                 0       2   \n",
       "841                 0       3   \n",
       "721                 1       2   \n",
       "40                  1       3   \n",
       "\n",
       "                                                          Name     Sex   Age  \\\n",
       "PassengerId                                                                    \n",
       "710          Moubarek, Master. Halim Gonios (\"William George\")    male   NaN   \n",
       "440                     Kvillner, Mr. Johan Henrik Johannesson    male  31.0   \n",
       "841                                Alhomaki, Mr. Ilmari Rudolf    male  20.0   \n",
       "721                          Harper, Miss. Annie Jessie \"Nina\"  female   6.0   \n",
       "40                                 Nicola-Yarred, Miss. Jamila  female  14.0   \n",
       "\n",
       "             SibSp  Parch            Ticket     Fare Cabin Embarked  Title  \n",
       "PassengerId                                                                 \n",
       "710              1      1              2661  15.2458   NaN        C  Other  \n",
       "440              0      0        C.A. 18723  10.5000   NaN        S     Mr  \n",
       "841              0      0  SOTON/O2 3101287   7.9250   NaN        S     Mr  \n",
       "721              0      1            248727  33.0000   NaN        S   Miss  \n",
       "40               1      0              2651  11.2417   NaN        C   Miss  "
      ]
     },
     "execution_count": 33,
     "metadata": {},
     "output_type": "execute_result"
    }
   ],
   "source": [
    "data.loc[(data['Title'] != 'Mr') & (data['Title'] != 'Miss') & (data['Title'] != 'Mrs'), 'Title'] = 'Other'\n",
    "data.sample(5, random_state=seed)"
   ]
  },
  {
   "cell_type": "markdown",
   "metadata": {},
   "source": [
    "Obtenemos así las siguientes categorías:"
   ]
  },
  {
   "cell_type": "code",
   "execution_count": 34,
   "metadata": {
    "execution": {
     "iopub.execute_input": "2023-01-31T15:30:55.338511Z",
     "iopub.status.busy": "2023-01-31T15:30:55.338145Z",
     "iopub.status.idle": "2023-01-31T15:30:55.546643Z",
     "shell.execute_reply": "2023-01-31T15:30:55.545556Z",
     "shell.execute_reply.started": "2023-01-31T15:30:55.338478Z"
    }
   },
   "outputs": [
    {
     "data": {
      "text/plain": [
       "<AxesSubplot:xlabel='Title', ylabel='count'>"
      ]
     },
     "execution_count": 34,
     "metadata": {},
     "output_type": "execute_result"
    },
    {
     "data": {
      "image/png": "[encoded data removed]",
      "text/plain": [
       "<Figure size 432x288 with 1 Axes>"
      ]
     },
     "metadata": {
      "needs_background": "light"
     },
     "output_type": "display_data"
    }
   ],
   "source": [
    "sns.countplot(x='Title',data=data)"
   ]
  },
  {
   "cell_type": "code",
   "execution_count": 35,
   "metadata": {
    "execution": {
     "iopub.execute_input": "2023-01-31T15:30:55.548173Z",
     "iopub.status.busy": "2023-01-31T15:30:55.547860Z",
     "iopub.status.idle": "2023-01-31T15:30:55.856094Z",
     "shell.execute_reply": "2023-01-31T15:30:55.854805Z",
     "shell.execute_reply.started": "2023-01-31T15:30:55.548137Z"
    }
   },
   "outputs": [
    {
     "data": {
      "text/plain": [
       "<AxesSubplot:xlabel='Title', ylabel='Survived'>"
      ]
     },
     "execution_count": 35,
     "metadata": {},
     "output_type": "execute_result"
    },
    {
     "data": {
      "image/png": "[encoded data removed]",
      "text/plain": [
       "<Figure size 432x288 with 1 Axes>"
      ]
     },
     "metadata": {
      "needs_background": "light"
     },
     "output_type": "display_data"
    }
   ],
   "source": [
    "sns.barplot(x=\"Title\", y =\"Survived\", data=data)"
   ]
  },
  {
   "cell_type": "markdown",
   "metadata": {},
   "source": [
    "Podemos observar que parece haber relación directa entre esta nueva variable y la variable clase ya que los pasajeros cuyo título es `Mr` sobrevivieron muchísimo menos que el resto."
   ]
  },
  {
   "cell_type": "markdown",
   "metadata": {},
   "source": [
    "### Family\n",
    "\n",
    "Se va a generar una nueva variable que indique la cantidad de familiares de cada pasajero que hay a bordo. Para ello se van a sumar las variables `SibSp` y `Parch` que indican la cantidad de hermanos/esposos y padres/hijos, respectivamente."
   ]
  },
  {
   "cell_type": "code",
   "execution_count": 36,
   "metadata": {
    "execution": {
     "iopub.execute_input": "2023-01-31T15:30:55.857854Z",
     "iopub.status.busy": "2023-01-31T15:30:55.857531Z",
     "iopub.status.idle": "2023-01-31T15:30:55.881552Z",
     "shell.execute_reply": "2023-01-31T15:30:55.880435Z",
     "shell.execute_reply.started": "2023-01-31T15:30:55.857825Z"
    }
   },
   "outputs": [
    {
     "data": {
      "text/html": [
       "<div>\n",
       "<style scoped>\n",
       "    .dataframe tbody tr th:only-of-type {\n",
       "        vertical-align: middle;\n",
       "    }\n",
       "\n",
       "    .dataframe tbody tr th {\n",
       "        vertical-align: top;\n",
       "    }\n",
       "\n",
       "    .dataframe thead th {\n",
       "        text-align: right;\n",
       "    }\n",
       "</style>\n",
       "<table border=\"1\" class=\"dataframe\">\n",
       "  <thead>\n",
       "    <tr style=\"text-align: right;\">\n",
       "      <th></th>\n",
       "      <th>Survived</th>\n",
       "      <th>Pclass</th>\n",
       "      <th>Name</th>\n",
       "      <th>Sex</th>\n",
       "      <th>Age</th>\n",
       "      <th>SibSp</th>\n",
       "      <th>Parch</th>\n",
       "      <th>Ticket</th>\n",
       "      <th>Fare</th>\n",
       "      <th>Cabin</th>\n",
       "      <th>Embarked</th>\n",
       "      <th>Title</th>\n",
       "      <th>Family</th>\n",
       "    </tr>\n",
       "    <tr>\n",
       "      <th>PassengerId</th>\n",
       "      <th></th>\n",
       "      <th></th>\n",
       "      <th></th>\n",
       "      <th></th>\n",
       "      <th></th>\n",
       "      <th></th>\n",
       "      <th></th>\n",
       "      <th></th>\n",
       "      <th></th>\n",
       "      <th></th>\n",
       "      <th></th>\n",
       "      <th></th>\n",
       "      <th></th>\n",
       "    </tr>\n",
       "  </thead>\n",
       "  <tbody>\n",
       "    <tr>\n",
       "      <th>710</th>\n",
       "      <td>1</td>\n",
       "      <td>3</td>\n",
       "      <td>Moubarek, Master. Halim Gonios (\"William George\")</td>\n",
       "      <td>male</td>\n",
       "      <td>NaN</td>\n",
       "      <td>1</td>\n",
       "      <td>1</td>\n",
       "      <td>2661</td>\n",
       "      <td>15.2458</td>\n",
       "      <td>NaN</td>\n",
       "      <td>C</td>\n",
       "      <td>Other</td>\n",
       "      <td>2</td>\n",
       "    </tr>\n",
       "    <tr>\n",
       "      <th>440</th>\n",
       "      <td>0</td>\n",
       "      <td>2</td>\n",
       "      <td>Kvillner, Mr. Johan Henrik Johannesson</td>\n",
       "      <td>male</td>\n",
       "      <td>31.0</td>\n",
       "      <td>0</td>\n",
       "      <td>0</td>\n",
       "      <td>C.A. 18723</td>\n",
       "      <td>10.5000</td>\n",
       "      <td>NaN</td>\n",
       "      <td>S</td>\n",
       "      <td>Mr</td>\n",
       "      <td>0</td>\n",
       "    </tr>\n",
       "    <tr>\n",
       "      <th>841</th>\n",
       "      <td>0</td>\n",
       "      <td>3</td>\n",
       "      <td>Alhomaki, Mr. Ilmari Rudolf</td>\n",
       "      <td>male</td>\n",
       "      <td>20.0</td>\n",
       "      <td>0</td>\n",
       "      <td>0</td>\n",
       "      <td>SOTON/O2 3101287</td>\n",
       "      <td>7.9250</td>\n",
       "      <td>NaN</td>\n",
       "      <td>S</td>\n",
       "      <td>Mr</td>\n",
       "      <td>0</td>\n",
       "    </tr>\n",
       "    <tr>\n",
       "      <th>721</th>\n",
       "      <td>1</td>\n",
       "      <td>2</td>\n",
       "      <td>Harper, Miss. Annie Jessie \"Nina\"</td>\n",
       "      <td>female</td>\n",
       "      <td>6.0</td>\n",
       "      <td>0</td>\n",
       "      <td>1</td>\n",
       "      <td>248727</td>\n",
       "      <td>33.0000</td>\n",
       "      <td>NaN</td>\n",
       "      <td>S</td>\n",
       "      <td>Miss</td>\n",
       "      <td>1</td>\n",
       "    </tr>\n",
       "    <tr>\n",
       "      <th>40</th>\n",
       "      <td>1</td>\n",
       "      <td>3</td>\n",
       "      <td>Nicola-Yarred, Miss. Jamila</td>\n",
       "      <td>female</td>\n",
       "      <td>14.0</td>\n",
       "      <td>1</td>\n",
       "      <td>0</td>\n",
       "      <td>2651</td>\n",
       "      <td>11.2417</td>\n",
       "      <td>NaN</td>\n",
       "      <td>C</td>\n",
       "      <td>Miss</td>\n",
       "      <td>1</td>\n",
       "    </tr>\n",
       "  </tbody>\n",
       "</table>\n",
       "</div>"
      ],
      "text/plain": [
       "             Survived  Pclass  \\\n",
       "PassengerId                     \n",
       "710                 1       3   \n",
       "440                 0       2   \n",
       "841                 0       3   \n",
       "721                 1       2   \n",
       "40                  1       3   \n",
       "\n",
       "                                                          Name     Sex   Age  \\\n",
       "PassengerId                                                                    \n",
       "710          Moubarek, Master. Halim Gonios (\"William George\")    male   NaN   \n",
       "440                     Kvillner, Mr. Johan Henrik Johannesson    male  31.0   \n",
       "841                                Alhomaki, Mr. Ilmari Rudolf    male  20.0   \n",
       "721                          Harper, Miss. Annie Jessie \"Nina\"  female   6.0   \n",
       "40                                 Nicola-Yarred, Miss. Jamila  female  14.0   \n",
       "\n",
       "             SibSp  Parch            Ticket     Fare Cabin Embarked  Title  \\\n",
       "PassengerId                                                                  \n",
       "710              1      1              2661  15.2458   NaN        C  Other   \n",
       "440              0      0        C.A. 18723  10.5000   NaN        S     Mr   \n",
       "841              0      0  SOTON/O2 3101287   7.9250   NaN        S     Mr   \n",
       "721              0      1            248727  33.0000   NaN        S   Miss   \n",
       "40               1      0              2651  11.2417   NaN        C   Miss   \n",
       "\n",
       "             Family  \n",
       "PassengerId          \n",
       "710               2  \n",
       "440               0  \n",
       "841               0  \n",
       "721               1  \n",
       "40                1  "
      ]
     },
     "execution_count": 36,
     "metadata": {},
     "output_type": "execute_result"
    }
   ],
   "source": [
    "data['Family'] = data['SibSp'] + data['Parch']\n",
    "data.sample(5, random_state=seed)"
   ]
  },
  {
   "cell_type": "markdown",
   "metadata": {},
   "source": [
    "Vamos a comprobar que valores hemos obtenido."
   ]
  },
  {
   "cell_type": "code",
   "execution_count": 37,
   "metadata": {
    "execution": {
     "iopub.execute_input": "2023-01-31T15:30:55.883399Z",
     "iopub.status.busy": "2023-01-31T15:30:55.883039Z",
     "iopub.status.idle": "2023-01-31T15:30:56.120309Z",
     "shell.execute_reply": "2023-01-31T15:30:56.118999Z",
     "shell.execute_reply.started": "2023-01-31T15:30:55.883365Z"
    }
   },
   "outputs": [
    {
     "data": {
      "text/plain": [
       "<AxesSubplot:xlabel='Family', ylabel='count'>"
      ]
     },
     "execution_count": 37,
     "metadata": {},
     "output_type": "execute_result"
    },
    {
     "data": {
      "image/png": "[encoded data removed]",
      "text/plain": [
       "<Figure size 432x288 with 1 Axes>"
      ]
     },
     "metadata": {
      "needs_background": "light"
     },
     "output_type": "display_data"
    }
   ],
   "source": [
    "sns.countplot(x='Family',data=data)"
   ]
  },
  {
   "cell_type": "markdown",
   "metadata": {},
   "source": [
    "Como vemos obtenemos muchos outliers, ya que la mayoría de pasajeros solo cuentan con 0, 1 o 2 familiares a bordo. Para lidiar con estos outliers la solución que vamos a tratar va a ser agrupar todos estos valores en el valor 2, referenciando a `2 o más` familiares a bordo."
   ]
  },
  {
   "cell_type": "code",
   "execution_count": 38,
   "metadata": {
    "execution": {
     "iopub.execute_input": "2023-01-31T15:30:56.122217Z",
     "iopub.status.busy": "2023-01-31T15:30:56.121875Z",
     "iopub.status.idle": "2023-01-31T15:30:56.128271Z",
     "shell.execute_reply": "2023-01-31T15:30:56.127036Z",
     "shell.execute_reply.started": "2023-01-31T15:30:56.122187Z"
    }
   },
   "outputs": [],
   "source": [
    "data['Family'] = np.minimum(data.Family, 2)"
   ]
  },
  {
   "cell_type": "markdown",
   "metadata": {},
   "source": [
    "Vamos a generar los gráficos para ver que tal son los datos que hemos obtenido."
   ]
  },
  {
   "cell_type": "code",
   "execution_count": 39,
   "metadata": {
    "execution": {
     "iopub.execute_input": "2023-01-31T15:30:56.130398Z",
     "iopub.status.busy": "2023-01-31T15:30:56.129923Z",
     "iopub.status.idle": "2023-01-31T15:30:56.329538Z",
     "shell.execute_reply": "2023-01-31T15:30:56.328150Z",
     "shell.execute_reply.started": "2023-01-31T15:30:56.130338Z"
    }
   },
   "outputs": [
    {
     "data": {
      "text/plain": [
       "<AxesSubplot:xlabel='Family', ylabel='count'>"
      ]
     },
     "execution_count": 39,
     "metadata": {},
     "output_type": "execute_result"
    },
    {
     "data": {
      "image/png": "[encoded data removed]",
      "text/plain": [
       "<Figure size 432x288 with 1 Axes>"
      ]
     },
     "metadata": {
      "needs_background": "light"
     },
     "output_type": "display_data"
    }
   ],
   "source": [
    "sns.countplot(x='Family',data=data)"
   ]
  },
  {
   "cell_type": "code",
   "execution_count": 40,
   "metadata": {
    "execution": {
     "iopub.execute_input": "2023-01-31T15:30:56.331069Z",
     "iopub.status.busy": "2023-01-31T15:30:56.330749Z",
     "iopub.status.idle": "2023-01-31T15:30:56.619369Z",
     "shell.execute_reply": "2023-01-31T15:30:56.618135Z",
     "shell.execute_reply.started": "2023-01-31T15:30:56.331039Z"
    }
   },
   "outputs": [
    {
     "data": {
      "text/plain": [
       "<AxesSubplot:xlabel='Family', ylabel='Survived'>"
      ]
     },
     "execution_count": 40,
     "metadata": {},
     "output_type": "execute_result"
    },
    {
     "data": {
      "image/png": "[encoded data removed]",
      "text/plain": [
       "<Figure size 432x288 with 1 Axes>"
      ]
     },
     "metadata": {
      "needs_background": "light"
     },
     "output_type": "display_data"
    }
   ],
   "source": [
    "sns.barplot(x=\"Family\", y =\"Survived\", data=data)"
   ]
  },
  {
   "cell_type": "markdown",
   "metadata": {},
   "source": [
    "Se observa que hay una relación directa entre esta variable y la variable clase ya que los pasajeros con algún familiar a bordo sobrevivieron más. Por eso se va a generar una variable `Family` que indique si el pasajero tenía algún familiar a bordo (valor `1`) o si estaba solo (valor `0`), ya que no hay casi diferencia entre tener 1 o más a bordo."
   ]
  },
  {
   "cell_type": "markdown",
   "metadata": {},
   "source": [
    "## 3.3. Análisis multivariado\n",
    "\n",
    "Para realizar el análisis multivariado se va a generar una matriz de correlación entre las variables y un pairplot para ver la relación por pares entre las diferentes variables.\n",
    "\n",
    "***Nota:*** las variables `Name`, `Ticket`, `Cabin`, `Embarked` no se han incluído en estos gráficos al ser variables categóricas cuyos valores no presentan ninguna ordenación. Además, de estas 4 variables la única que parece tener alguna utilidad para el problema es `Embarked`."
   ]
  },
  {
   "cell_type": "markdown",
   "metadata": {},
   "source": [
    "Primero voy a realizar una codificación binaria para la variable `Sex` (`0 - male` y `1 - female`)."
   ]
  },
  {
   "cell_type": "code",
   "execution_count": 41,
   "metadata": {
    "execution": {
     "iopub.execute_input": "2023-01-31T15:30:56.621868Z",
     "iopub.status.busy": "2023-01-31T15:30:56.621112Z",
     "iopub.status.idle": "2023-01-31T15:30:56.629719Z",
     "shell.execute_reply": "2023-01-31T15:30:56.628635Z",
     "shell.execute_reply.started": "2023-01-31T15:30:56.621823Z"
    }
   },
   "outputs": [],
   "source": [
    "data[\"Sex\"].replace(['male', 'female'], [0,1], inplace=True)"
   ]
  },
  {
   "cell_type": "code",
   "execution_count": 42,
   "metadata": {
    "execution": {
     "iopub.execute_input": "2023-01-31T15:30:56.632308Z",
     "iopub.status.busy": "2023-01-31T15:30:56.631287Z",
     "iopub.status.idle": "2023-01-31T15:30:57.175521Z",
     "shell.execute_reply": "2023-01-31T15:30:57.174226Z",
     "shell.execute_reply.started": "2023-01-31T15:30:56.632263Z"
    }
   },
   "outputs": [
    {
     "data": {
      "image/png": "[encoded data removed]",
      "text/plain": [
       "<Figure size 432x288 with 2 Axes>"
      ]
     },
     "metadata": {
      "needs_background": "light"
     },
     "output_type": "display_data"
    }
   ],
   "source": [
    "cols = ['Survived', 'Pclass', 'Age', 'SibSp', 'Parch', 'Fare', 'Family', 'Sex']\n",
    "sns.heatmap(data[cols].corr(), annot = True, square = True)\n",
    "plt.show()"
   ]
  },
  {
   "cell_type": "code",
   "execution_count": 43,
   "metadata": {
    "execution": {
     "iopub.execute_input": "2023-01-31T15:30:57.177591Z",
     "iopub.status.busy": "2023-01-31T15:30:57.177118Z",
     "iopub.status.idle": "2023-01-31T15:31:12.739814Z",
     "shell.execute_reply": "2023-01-31T15:31:12.738475Z",
     "shell.execute_reply.started": "2023-01-31T15:30:57.177548Z"
    }
   },
   "outputs": [
    {
     "data": {
      "text/plain": [
       "<seaborn.axisgrid.PairGrid at 0x2359aaeb3a0>"
      ]
     },
     "execution_count": 43,
     "metadata": {},
     "output_type": "execute_result"
    },
    {
     "data": {
      "image/png": "[encoded data removed]",
      "text/plain": [
       "<Figure size 1311.88x1260 with 56 Axes>"
      ]
     },
     "metadata": {
      "needs_background": "light"
     },
     "output_type": "display_data"
    }
   ],
   "source": [
    "sns.pairplot(data, hue=\"Survived\")"
   ]
  },
  {
   "cell_type": "markdown",
   "metadata": {},
   "source": [
    "De estas dos gráficas se puede obtener información muy útil al problema.\n",
    "\n",
    "De la matriz de correlación podemos observar que relación hay entre las distintas variables, y si esta relación es positiva o negativa. En este caso vemos que la variable `Pclass` está muy relacionada con la variable clase, además también tiene relación con las variables `Age` y `Fare`. La variable `Sex` está muy relacionada con la variable clase. Además, la variable `Fare` si que parece relacionarse positivamente con la variable clase, aunque en el análisis univariado parecía no relacionarse mucho.\n",
    "\n",
    "Del pairplot además de la relación entre las variabes se puede utilizar para buscar un buen punto de corte para discretizar las variables numéricas. En este caso vemos que para las variables `Age` y `Fare` no parece poder aplicarse un buen discretizado."
   ]
  },
  {
   "cell_type": "markdown",
   "metadata": {},
   "source": [
    "## 3.4. Concluiones análisis exploratorio\n",
    "\n",
    "Estas son las conclusiones que se han ido sacando a lo largo del análisis exploratorio:\n",
    "\n",
    "- ***Survived:*** La variable clase está desbalanceada.\n",
    "- ***Pclass:*** tiene relación directa con la variable clase.\n",
    "- ***Name:*** la mayoría de sus valores son únicos y no aporta casi información.\n",
    "- ***Sex:*** tiene relación directa con la variable clase.\n",
    "- ***Age:*** individualmente no tiene mucha relación con la variable clase, pero se relaciona con la variable `Pclass`, por lo que puede ser bastante útil. No se ha encontrado ningún punto de corte válido para realizar un discretizado. Cuenta con casi 200 valores nulos. Además dispone de algunos outliers.\n",
    "- ***SibSp:*** tiene relación directa con la variable clase.\n",
    "- ***Parch:*** tiene relación directa con la variable clase.\n",
    "- ***Fare:*** tiene relación directa con la variable clase, además se relaciona con otras variables como la variable `Pclass`. Presenta bastantes outliers. No se ha encontrado ningún punto de corte válido para realizar un discretizado.\n",
    "- ***Ticket:*** la mayoría de sus valores son únicos y no aporta casi información.\n",
    "- ***Cabin:*** la mayoría de sus valores son nulos.\n",
    "- ***Embarked:*** tiene relación directa con la variable clase. Además tiene 2 valores nulos.\n",
    "- ***Title:*** se ha generado a partir de `Name` y parece tener cierta uitlidad.\n",
    "- ***Family:*** se ha generado a partir de `SibSp` y `Parch` y parece tener cierta uitlidad.\n",
    "- El problema cuenta con varias características categóricas que serán necesario codificar."
   ]
  },
  {
   "cell_type": "markdown",
   "metadata": {},
   "source": [
    "# 4. Preprocesamiento de datos\n",
    "\n",
    "Después de terminar el análisis exploratorio de datos, vamos a intentar preparar los datos a partir de las conclusiones que hemos obtenido para obtener un mejor rendimiento al entrenar los modelos.\n",
    "\n",
    "Para realizar todas las transformaciones necesarias sobre los datos se va a utilizar el concepto de `pipeline`. En un pipeline se definen todas las transformaciones que queremos aplicar sobre los datos y el pipeline se encarga de realizarlas todas, tanto para los datos de entrenamiento como para los de prueba. Además, con el uso de un pipeline nos aseguramos de no cometer `fuga de datos`, es decir, no se introducirá información del conjunto de prueba en los datos utilizados para entrenar a los modelos."
   ]
  },
  {
   "cell_type": "markdown",
   "metadata": {},
   "source": [
    "## Construcción de nuevas características\n",
    "\n",
    "Crearemos unos `custom transformers` para generar las dos nuevas características `Title` y `Family`.\n",
    "* Para la variable `Title` se extraerá el título de la columna `Name` y se dejarán los valores `Mr`, `Miss` y `Mrs`. Para el resto de casos se asignará el valor `Other`.\n",
    "* Para la variable `Family` se sumarán las columnas `SibSp` y `Parch`. Al resultado se le aplicará el mínimo con el valor 1, para que no tenga un valor superior a este, obteniendo así 0 para los pasajeros que no tenían familiares a bordo y 1 para aquellos que si tenían."
   ]
  },
  {
   "cell_type": "code",
   "execution_count": 44,
   "metadata": {
    "execution": {
     "iopub.execute_input": "2023-01-31T15:31:12.749589Z",
     "iopub.status.busy": "2023-01-31T15:31:12.749022Z",
     "iopub.status.idle": "2023-01-31T15:31:12.763162Z",
     "shell.execute_reply": "2023-01-31T15:31:12.762006Z",
     "shell.execute_reply.started": "2023-01-31T15:31:12.749545Z"
    }
   },
   "outputs": [],
   "source": [
    "class TitleTransformer(BaseEstimator, TransformerMixin): \n",
    " \n",
    "    def fit(self, X, y = None):\n",
    "        return self\n",
    "    \n",
    "    def transform( self, X, y = None ):\n",
    "        X['Title'] = X['Name'].str.split(', ').str[1].str.split('.').str[0]\n",
    "        X.loc[(X['Title'] != 'Mr') & (X['Title'] != 'Miss') & (X['Title'] != 'Mrs'), 'Title'] = 'Other'\n",
    "        return X\n",
    "    \n",
    "#title_transformer = TitleTransformer()"
   ]
  },
  {
   "cell_type": "code",
   "execution_count": 45,
   "metadata": {
    "execution": {
     "iopub.execute_input": "2023-01-31T15:31:12.764626Z",
     "iopub.status.busy": "2023-01-31T15:31:12.764294Z",
     "iopub.status.idle": "2023-01-31T15:31:12.775203Z",
     "shell.execute_reply": "2023-01-31T15:31:12.774076Z",
     "shell.execute_reply.started": "2023-01-31T15:31:12.764596Z"
    }
   },
   "outputs": [],
   "source": [
    "class SumColumnsMax(BaseEstimator, TransformerMixin): \n",
    "    def __init__(self, op1, op2, result, max_value):\n",
    "        self.op1 = op1\n",
    "        self.op2 = op2\n",
    "        self.result = result\n",
    "        self.max_value = max_value\n",
    "    \n",
    "    def fit(self, X, y = None):\n",
    "        return self\n",
    "    \n",
    "    def transform( self, X, y = None ):\n",
    "        X[self.result] = np.minimum(X[self.op1] + X[self.op2], self.max_value)\n",
    "        return X\n",
    "    \n",
    "#sum_columns = SumColumnsMax('SibSp', 'Parch', 'Family', 1)"
   ]
  },
  {
   "cell_type": "markdown",
   "metadata": {},
   "source": [
    "## Eliminar columnas\n",
    "\n",
    "Crearemos otro `custom transform` que se encargará de eliminar las columnas indicadas, para eliminar las columnas que hemos detectado que no aportan información útil."
   ]
  },
  {
   "cell_type": "code",
   "execution_count": 46,
   "metadata": {
    "execution": {
     "iopub.execute_input": "2023-01-31T15:31:12.777060Z",
     "iopub.status.busy": "2023-01-31T15:31:12.776736Z",
     "iopub.status.idle": "2023-01-31T15:31:12.785540Z",
     "shell.execute_reply": "2023-01-31T15:31:12.784536Z",
     "shell.execute_reply.started": "2023-01-31T15:31:12.777031Z"
    }
   },
   "outputs": [],
   "source": [
    "class ColumnsDropper(BaseEstimator, TransformerMixin):\n",
    "    def __init__(self,columns):\n",
    "        self.columns=columns\n",
    "        \n",
    "    def fit(self, X, y=None):\n",
    "        return self\n",
    "    \n",
    "    def transform(self,X,y=None):\n",
    "        return X.drop(self.columns,axis=1)\n",
    "    \n",
    "#column_dropper = ColumnsDropper(['Ticket', 'Name', 'SibSp', 'Parch', 'Cabin'])"
   ]
  },
  {
   "cell_type": "markdown",
   "metadata": {},
   "source": [
    "## Valores nulos\n",
    "\n",
    "Para el tratamiento de valores nulos se realizará una imputación: \n",
    "* Para las variables categóricas se asignará el valor más frecuente.\n",
    "* Para las variables numéricas se aplicará un knn. Ya que como vimos en el análisis exploratorio las características `Age` y `Fare` se relacionaban con el resto de características."
   ]
  },
  {
   "cell_type": "code",
   "execution_count": 47,
   "metadata": {
    "execution": {
     "iopub.execute_input": "2023-01-31T15:31:12.799952Z",
     "iopub.status.busy": "2023-01-31T15:31:12.799207Z",
     "iopub.status.idle": "2023-01-31T15:31:12.807144Z",
     "shell.execute_reply": "2023-01-31T15:31:12.805881Z",
     "shell.execute_reply.started": "2023-01-31T15:31:12.799919Z"
    }
   },
   "outputs": [],
   "source": [
    "# categorical\n",
    "most_frequency_imputer = SimpleImputer(strategy='most_frequent')\n",
    "\n",
    "# numerical\n",
    "knn_imputer = KNNImputer(n_neighbors=5, weights='uniform')"
   ]
  },
  {
   "cell_type": "markdown",
   "metadata": {},
   "source": [
    "## Outliers\n",
    "\n",
    "Para el tratamiento de outliers crearemos un `custom transformer` que les asignará a todos los outliers un valor máximo como límite."
   ]
  },
  {
   "cell_type": "code",
   "execution_count": 48,
   "metadata": {
    "execution": {
     "iopub.execute_input": "2023-01-31T15:31:12.810198Z",
     "iopub.status.busy": "2023-01-31T15:31:12.809678Z",
     "iopub.status.idle": "2023-01-31T15:31:12.818853Z",
     "shell.execute_reply": "2023-01-31T15:31:12.817768Z",
     "shell.execute_reply.started": "2023-01-31T15:31:12.810152Z"
    }
   },
   "outputs": [],
   "source": [
    "class LimitOutlier(BaseEstimator, TransformerMixin): \n",
    "    \n",
    "    def fit(self, X, y = None):\n",
    "        self.limits = []\n",
    "        for col in range(X.shape[1]):\n",
    "            Q1 = np.nanpercentile(X[col], 25)\n",
    "            Q3 = np.nanpercentile(X[col], 75)\n",
    "            IQR = Q3 - Q1\n",
    "            min_quartile = Q1 - 1.5*IQR\n",
    "            max_quartile = Q3 + 1.5*IQR\n",
    "            \n",
    "            self.limits.append(max_quartile)\n",
    "        \n",
    "        return self\n",
    "    \n",
    "    def transform( self, X, y = None ):\n",
    "        check_is_fitted(self, ['limits'])\n",
    "        X2 = X.copy()\n",
    "        for col in range(len(self.limits)):\n",
    "            X2[col] = np.minimum(X[col], self.limits[col])\n",
    "        return X2\n",
    "    \n",
    "#limit_outlier = LimitOutlier()"
   ]
  },
  {
   "cell_type": "markdown",
   "metadata": {},
   "source": [
    "## Encoding\n",
    "\n",
    "Para las variables categóricas se codificarán mediante un `one hot encoding`."
   ]
  },
  {
   "cell_type": "code",
   "execution_count": 49,
   "metadata": {
    "execution": {
     "iopub.execute_input": "2023-01-31T15:31:12.829417Z",
     "iopub.status.busy": "2023-01-31T15:31:12.828653Z",
     "iopub.status.idle": "2023-01-31T15:31:12.834835Z",
     "shell.execute_reply": "2023-01-31T15:31:12.833697Z",
     "shell.execute_reply.started": "2023-01-31T15:31:12.829347Z"
    }
   },
   "outputs": [],
   "source": [
    "one_hot_encoder = OneHotEncoder(handle_unknown='ignore')"
   ]
  },
  {
   "cell_type": "markdown",
   "metadata": {},
   "source": [
    "## Construcción del pipeline\n",
    "\n",
    "Ahora que se han definido todos los pasos de preprocesamiento se va a construir el `pipeline`. El `pipeline` realizará las siguientes operaciones en este orden:\n",
    "\n",
    "![Pipeline](pipeline.png \"Pipeline\")"
   ]
  },
  {
   "cell_type": "code",
   "execution_count": 50,
   "metadata": {
    "execution": {
     "iopub.execute_input": "2023-01-31T15:31:12.836929Z",
     "iopub.status.busy": "2023-01-31T15:31:12.836582Z",
     "iopub.status.idle": "2023-01-31T15:31:12.844315Z",
     "shell.execute_reply": "2023-01-31T15:31:12.843397Z",
     "shell.execute_reply.started": "2023-01-31T15:31:12.836898Z"
    }
   },
   "outputs": [],
   "source": [
    "numerical_cols = ['Age', 'Fare']\n",
    "categorical_cols = ['Pclass', 'Sex', 'Embarked', 'Title']\n",
    "drop_col = ['Ticket', 'Name', 'SibSp', 'Parch', 'Cabin']"
   ]
  },
  {
   "cell_type": "code",
   "execution_count": 51,
   "metadata": {
    "execution": {
     "iopub.execute_input": "2023-01-31T15:31:12.846330Z",
     "iopub.status.busy": "2023-01-31T15:31:12.845348Z",
     "iopub.status.idle": "2023-01-31T15:31:12.857244Z",
     "shell.execute_reply": "2023-01-31T15:31:12.856277Z",
     "shell.execute_reply.started": "2023-01-31T15:31:12.846297Z"
    }
   },
   "outputs": [],
   "source": [
    "numerical_transformer = Pipeline(steps=[('imputer', knn_imputer),\n",
    "                                  ('outlier', LimitOutlier())])\n",
    "\n",
    "categorical_transformer = Pipeline(steps=[('imputer', SimpleImputer(strategy='most_frequent')),\n",
    "                                  ('encoder', OneHotEncoder(handle_unknown='ignore'))])\n",
    "\n",
    "column_transformer = ColumnTransformer(\n",
    "    transformers=[\n",
    "        ('num', numerical_transformer, numerical_cols),\n",
    "        ('cat', categorical_transformer, categorical_cols)\n",
    "    ], remainder='passthrough')\n",
    "\n",
    "\n",
    "preprocessor = Pipeline(steps=[('family', SumColumnsMax('SibSp', 'Parch', 'Family', 1)),\n",
    "                               ('title', TitleTransformer()),\n",
    "                               ('drop', ColumnsDropper(drop_col)),\n",
    "                               ('columtransform', column_transformer)])"
   ]
  },
  {
   "cell_type": "markdown",
   "metadata": {},
   "source": [
    "# 5. Entrenamiento de los modelos\n",
    "\n",
    "Ahora que hemos definido un `pipeline` que contiene todo el preprocesamiento que queremos realizar sobre nuestros datos vamos a entrenar varios modelos a partir de estos datos preprocesados.\n",
    "\n",
    "Un aspecto fundamental para obtener buenos resultados con algoritmos de aprendizaje es elegir los parámetros adecuados. En este caso se ha utilizado al objeto `GridSearchCV` que realiza una `validación cruzada` para elegir los parámetros que obtienen mejores resultados a partir de una lista de parámetros dada.\n",
    "\n",
    "Después de obtener los mejores parámetros para cada modelo se realizará un emsemble con los mejores modelos obtenidos.\n",
    "\n",
    "Para empezar cargaremos los datos que disponemos para validar y entrenar los modelos:"
   ]
  },
  {
   "cell_type": "code",
   "execution_count": 52,
   "metadata": {
    "execution": {
     "iopub.execute_input": "2023-01-31T15:31:12.869934Z",
     "iopub.status.busy": "2023-01-31T15:31:12.868997Z",
     "iopub.status.idle": "2023-01-31T15:31:12.886126Z",
     "shell.execute_reply": "2023-01-31T15:31:12.884938Z",
     "shell.execute_reply.started": "2023-01-31T15:31:12.869899Z"
    }
   },
   "outputs": [],
   "source": [
    "data = pd.read_csv(filepath, index_col=index)\n",
    "X = data.drop(columns=['Survived'])\n",
    "y = data['Survived']"
   ]
  },
  {
   "cell_type": "markdown",
   "metadata": {},
   "source": [
    "Ahora dividiremos este conjunto de datos en dos:\n",
    "- Conjunto de datos de entrenamiento: datos que se usarán para seleccionar la mejor configuración de parámetros para los modelos y entrenarlos con esa configuración.\n",
    "- Conjunto de datos de validación: datos que se usarán después de entrenar los modelos con la mejor configuración de parámetros para evaluar su rendimiento.\n",
    "\n",
    "***Importante:*** al tener un conjunto de datos desbalanceado se realiza una partición de datos estratificada para mantener el mismo porcentaje de valores positivos (1) y negativos (0) de la variable clase."
   ]
  },
  {
   "cell_type": "code",
   "execution_count": 53,
   "metadata": {
    "execution": {
     "iopub.execute_input": "2023-01-31T15:31:12.887564Z",
     "iopub.status.busy": "2023-01-31T15:31:12.887219Z",
     "iopub.status.idle": "2023-01-31T15:31:12.896657Z",
     "shell.execute_reply": "2023-01-31T15:31:12.895791Z",
     "shell.execute_reply.started": "2023-01-31T15:31:12.887534Z"
    }
   },
   "outputs": [],
   "source": [
    "X_train, X_val, y_train, y_val = train_test_split(X, y, stratify=y, test_size=0.18, random_state=seed)"
   ]
  },
  {
   "cell_type": "markdown",
   "metadata": {},
   "source": [
    "Definimos una función que recibe un modelo, la configuración de parámetros que queremos validar y los datos para entrenar ese modelo. Esta función realizará una validación cruzada con 5 fold para elegir la mejor configuración de parámetros y posteriormente utilizará el conjunto de datos de entrenamiento completo para entrenar al modelo con la mejor configuración de parámetros."
   ]
  },
  {
   "cell_type": "code",
   "execution_count": 54,
   "metadata": {
    "execution": {
     "iopub.execute_input": "2023-01-31T15:48:22.552369Z",
     "iopub.status.busy": "2023-01-31T15:48:22.551938Z",
     "iopub.status.idle": "2023-01-31T15:48:22.559792Z",
     "shell.execute_reply": "2023-01-31T15:48:22.558825Z",
     "shell.execute_reply.started": "2023-01-31T15:48:22.552319Z"
    }
   },
   "outputs": [],
   "source": [
    "def fitCV(model, parameters, X, y, preprocessor=preprocessor):\n",
    "\n",
    "    my_pipeline = Pipeline(steps=[('preprocessor', preprocessor),\n",
    "                                  ('model', model)])\n",
    "    \n",
    "    parameters['preprocessor__columtransform__num__imputer__n_neighbors'] = [5, 10]\n",
    "    parameters['preprocessor__columtransform__num__imputer__weights'] = ['uniform', 'distance']\n",
    "    \n",
    "    GS = GridSearchCV(my_pipeline, param_grid=parameters, cv=5, scoring='accuracy', refit=True, verbose=-1)\n",
    "    GS.fit(X, y)\n",
    "    \n",
    "    print(\"Mejor score para la mejor configuracion de parametros: \", GS.best_score_)\n",
    "    print(\"Mejor configuración de parámetros: \", GS.best_params_)\n",
    "    \n",
    "    return GS.best_estimator_"
   ]
  },
  {
   "cell_type": "markdown",
   "metadata": {},
   "source": [
    "Ahora vamos a entrenar los siguientes algoritmos utilizando esta función:\n",
    "- Support Vector Machine\n",
    "- Knn\n",
    "- Regresión logística\n",
    "- Naive Bayes\n",
    "- Árboles de decisión\n",
    "- Ada Boost\n",
    "- Bagging\n",
    "- Random Forest\n",
    "- Gradient Boosting\n",
    "- Histogram Gradient Boosting"
   ]
  },
  {
   "cell_type": "markdown",
   "metadata": {},
   "source": [
    "## SVM"
   ]
  },
  {
   "cell_type": "code",
   "execution_count": 55,
   "metadata": {
    "execution": {
     "iopub.execute_input": "2023-01-31T15:48:24.992552Z",
     "iopub.status.busy": "2023-01-31T15:48:24.991521Z",
     "iopub.status.idle": "2023-01-31T15:48:29.716039Z",
     "shell.execute_reply": "2023-01-31T15:48:29.714799Z",
     "shell.execute_reply.started": "2023-01-31T15:48:24.992510Z"
    }
   },
   "outputs": [
    {
     "name": "stdout",
     "output_type": "stream",
     "text": [
      "Mejor score para la mejor configuracion de parametros:  0.7\n",
      "Mejor configuración de parámetros:  {'model__C': 0.85, 'preprocessor__columtransform__num__imputer__n_neighbors': 5, 'preprocessor__columtransform__num__imputer__weights': 'uniform'}\n"
     ]
    }
   ],
   "source": [
    "model = SVC(random_state=seed)\n",
    "\n",
    "parameters = {}\n",
    "parameters['model__C'] = [0.75, 0.85, 0.95, 1]\n",
    "\n",
    "svm = fitCV(model, parameters, X_train, y_train)"
   ]
  },
  {
   "cell_type": "markdown",
   "metadata": {},
   "source": [
    "## KNN"
   ]
  },
  {
   "cell_type": "code",
   "execution_count": 56,
   "metadata": {
    "execution": {
     "iopub.execute_input": "2023-01-31T15:49:04.803260Z",
     "iopub.status.busy": "2023-01-31T15:49:04.802849Z",
     "iopub.status.idle": "2023-01-31T15:49:15.508527Z",
     "shell.execute_reply": "2023-01-31T15:49:15.507403Z",
     "shell.execute_reply.started": "2023-01-31T15:49:04.803220Z"
    }
   },
   "outputs": [
    {
     "name": "stdout",
     "output_type": "stream",
     "text": [
      "Mejor score para la mejor configuracion de parametros:  0.7356164383561643\n",
      "Mejor configuración de parámetros:  {'model__n_neighbors': 7, 'model__weights': 'distance', 'preprocessor__columtransform__num__imputer__n_neighbors': 5, 'preprocessor__columtransform__num__imputer__weights': 'uniform'}\n"
     ]
    }
   ],
   "source": [
    "model = KNeighborsClassifier(n_neighbors = 5)\n",
    "\n",
    "parameters = {}\n",
    "parameters['model__weights'] = ['uniform', 'distance']\n",
    "parameters['model__n_neighbors'] = [1, 2, 3, 5, 7, 10]\n",
    "\n",
    "knn = fitCV(model, parameters, X_train, y_train)"
   ]
  },
  {
   "cell_type": "markdown",
   "metadata": {},
   "source": [
    "## Regresion logistica"
   ]
  },
  {
   "cell_type": "code",
   "execution_count": 57,
   "metadata": {
    "execution": {
     "iopub.execute_input": "2023-01-31T15:49:46.554832Z",
     "iopub.status.busy": "2023-01-31T15:49:46.554417Z",
     "iopub.status.idle": "2023-01-31T15:50:00.483323Z",
     "shell.execute_reply": "2023-01-31T15:50:00.482205Z",
     "shell.execute_reply.started": "2023-01-31T15:49:46.554799Z"
    }
   },
   "outputs": [
    {
     "name": "stdout",
     "output_type": "stream",
     "text": [
      "Mejor score para la mejor configuracion de parametros:  0.8219178082191781\n",
      "Mejor configuración de parámetros:  {'model__C': 1, 'model__class_weight': None, 'model__penalty': 'l2', 'preprocessor__columtransform__num__imputer__n_neighbors': 10, 'preprocessor__columtransform__num__imputer__weights': 'uniform'}\n"
     ]
    }
   ],
   "source": [
    "model = LogisticRegression(solver='liblinear', random_state=seed)\n",
    "\n",
    "parameters = {}\n",
    "parameters['model__penalty'] = ['l1', 'l2']\n",
    "parameters['model__C'] = [0.75, 0.85, 0.95, 1]\n",
    "parameters['model__class_weight'] = [None, 'balanced']\n",
    "\n",
    "logistic_regression = fitCV(model, parameters, X_train, y_train)"
   ]
  },
  {
   "cell_type": "markdown",
   "metadata": {},
   "source": [
    "## Naive bayes"
   ]
  },
  {
   "cell_type": "code",
   "execution_count": 58,
   "metadata": {
    "execution": {
     "iopub.execute_input": "2023-01-31T15:50:14.871587Z",
     "iopub.status.busy": "2023-01-31T15:50:14.871161Z",
     "iopub.status.idle": "2023-01-31T15:50:18.079061Z",
     "shell.execute_reply": "2023-01-31T15:50:18.077929Z",
     "shell.execute_reply.started": "2023-01-31T15:50:14.871544Z"
    }
   },
   "outputs": [
    {
     "name": "stdout",
     "output_type": "stream",
     "text": [
      "Mejor score para la mejor configuracion de parametros:  0.7931506849315069\n",
      "Mejor configuración de parámetros:  {'model__var_smoothing': 1e-09, 'preprocessor__columtransform__num__imputer__n_neighbors': 5, 'preprocessor__columtransform__num__imputer__weights': 'uniform'}\n"
     ]
    }
   ],
   "source": [
    "model= GaussianNB()\n",
    "\n",
    "parameters = {}\n",
    "parameters['model__var_smoothing'] = [1e-9, 1e-8, 1e-5, 1e-1]\n",
    "\n",
    "nb = fitCV(model, parameters, X_train, y_train)"
   ]
  },
  {
   "cell_type": "markdown",
   "metadata": {},
   "source": [
    "## Árboles de decisión"
   ]
  },
  {
   "cell_type": "code",
   "execution_count": 59,
   "metadata": {
    "execution": {
     "iopub.execute_input": "2023-01-31T15:51:36.452436Z",
     "iopub.status.busy": "2023-01-31T15:51:36.452026Z",
     "iopub.status.idle": "2023-01-31T15:51:50.869147Z",
     "shell.execute_reply": "2023-01-31T15:51:50.867981Z",
     "shell.execute_reply.started": "2023-01-31T15:51:36.452404Z"
    }
   },
   "outputs": [
    {
     "name": "stdout",
     "output_type": "stream",
     "text": [
      "Mejor score para la mejor configuracion de parametros:  0.8287671232876713\n",
      "Mejor configuración de parámetros:  {'model__ccp_alpha': 0.0, 'model__criterion': 'gini', 'model__max_depth': 3, 'preprocessor__columtransform__num__imputer__n_neighbors': 10, 'preprocessor__columtransform__num__imputer__weights': 'distance'}\n"
     ]
    }
   ],
   "source": [
    "model = DecisionTreeClassifier(random_state=seed)\n",
    "\n",
    "parameters = {}\n",
    "parameters['model__criterion'] = ['gini', 'entropy']\n",
    "parameters['model__ccp_alpha'] = [0.0, 0.1, 0.2]\n",
    "parameters['model__max_depth'] = [3, 5, 6]\n",
    "\n",
    "decision_tree = fitCV(model, parameters, X_train, y_train)"
   ]
  },
  {
   "cell_type": "markdown",
   "metadata": {},
   "source": [
    "## Ada boost"
   ]
  },
  {
   "cell_type": "code",
   "execution_count": 60,
   "metadata": {
    "execution": {
     "iopub.execute_input": "2023-01-31T15:52:31.933333Z",
     "iopub.status.busy": "2023-01-31T15:52:31.932950Z",
     "iopub.status.idle": "2023-01-31T15:53:33.882672Z",
     "shell.execute_reply": "2023-01-31T15:53:33.881437Z",
     "shell.execute_reply.started": "2023-01-31T15:52:31.933301Z"
    }
   },
   "outputs": [
    {
     "name": "stdout",
     "output_type": "stream",
     "text": [
      "Mejor score para la mejor configuracion de parametros:  0.8287671232876713\n",
      "Mejor configuración de parámetros:  {'model__base_estimator': DecisionTreeClassifier(max_depth=1, random_state=42), 'model__base_estimator__criterion': 'gini', 'model__base_estimator__max_depth': 1, 'model__learning_rate': 1.0, 'model__n_estimators': 50, 'preprocessor__columtransform__num__imputer__n_neighbors': 5, 'preprocessor__columtransform__num__imputer__weights': 'uniform'}\n"
     ]
    }
   ],
   "source": [
    "model = AdaBoostClassifier(random_state=seed)\n",
    "\n",
    "base_estimator = DecisionTreeClassifier(random_state=seed)\n",
    "parameters = {}\n",
    "parameters['model__base_estimator'] = [base_estimator]\n",
    "parameters['model__n_estimators'] = [50, 100]\n",
    "parameters['model__learning_rate'] = [0.95, 1.0]\n",
    "parameters['model__base_estimator__max_depth'] = [1, 2]\n",
    "parameters['model__base_estimator__criterion'] = ['gini', 'entropy']\n",
    "\n",
    "\n",
    "ada = fitCV(model, parameters, X_train, y_train)"
   ]
  },
  {
   "cell_type": "markdown",
   "metadata": {},
   "source": [
    "## Bagging"
   ]
  },
  {
   "cell_type": "code",
   "execution_count": 61,
   "metadata": {
    "execution": {
     "iopub.execute_input": "2023-01-31T15:54:54.776731Z",
     "iopub.status.busy": "2023-01-31T15:54:54.776267Z",
     "iopub.status.idle": "2023-01-31T15:55:42.770565Z",
     "shell.execute_reply": "2023-01-31T15:55:42.769397Z",
     "shell.execute_reply.started": "2023-01-31T15:54:54.776694Z"
    }
   },
   "outputs": [
    {
     "name": "stdout",
     "output_type": "stream",
     "text": [
      "Mejor score para la mejor configuracion de parametros:  0.8438356164383561\n",
      "Mejor configuración de parámetros:  {'model__base_estimator': DecisionTreeClassifier(criterion='entropy', max_depth=10, random_state=42), 'model__base_estimator__criterion': 'entropy', 'model__base_estimator__max_depth': 10, 'model__n_estimators': 100, 'preprocessor__columtransform__num__imputer__n_neighbors': 5, 'preprocessor__columtransform__num__imputer__weights': 'uniform'}\n"
     ]
    }
   ],
   "source": [
    "model = BaggingClassifier(random_state=seed)\n",
    "\n",
    "base_estimator = DecisionTreeClassifier(random_state=seed)\n",
    "parameters = {}\n",
    "parameters['model__base_estimator'] = [base_estimator]\n",
    "parameters['model__n_estimators'] = [50, 100]\n",
    "\n",
    "parameters['model__base_estimator__max_depth'] = [1, 4, 10]\n",
    "parameters['model__base_estimator__criterion'] = ['gini', 'entropy']\n",
    "\n",
    "bagging = fitCV(model, parameters, X_train, y_train)"
   ]
  },
  {
   "cell_type": "markdown",
   "metadata": {},
   "source": [
    "## Random Forest"
   ]
  },
  {
   "cell_type": "code",
   "execution_count": 62,
   "metadata": {
    "execution": {
     "iopub.execute_input": "2023-01-31T15:55:50.163433Z",
     "iopub.status.busy": "2023-01-31T15:55:50.162693Z",
     "iopub.status.idle": "2023-01-31T15:56:47.518874Z",
     "shell.execute_reply": "2023-01-31T15:56:47.517721Z",
     "shell.execute_reply.started": "2023-01-31T15:55:50.163395Z"
    }
   },
   "outputs": [
    {
     "name": "stdout",
     "output_type": "stream",
     "text": [
      "Mejor score para la mejor configuracion de parametros:  0.841095890410959\n",
      "Mejor configuración de parámetros:  {'model__criterion': 'entropy', 'model__max_features': 'sqrt', 'model__min_samples_split': 10, 'model__n_estimators': 50, 'preprocessor__columtransform__num__imputer__n_neighbors': 10, 'preprocessor__columtransform__num__imputer__weights': 'uniform'}\n"
     ]
    }
   ],
   "source": [
    "model = RandomForestClassifier(random_state=seed)\n",
    "\n",
    "parameters = {}\n",
    "parameters['model__n_estimators'] = [50, 100]\n",
    "parameters['model__max_features'] = ['sqrt', 'log2']\n",
    "parameters['model__min_samples_split'] = [5, 10]\n",
    "parameters['model__criterion'] = ['gini', 'entropy']\n",
    "\n",
    "random_forest = fitCV(model, parameters, X_train, y_train)"
   ]
  },
  {
   "cell_type": "markdown",
   "metadata": {},
   "source": [
    "## Gradient Boosting"
   ]
  },
  {
   "cell_type": "code",
   "execution_count": 63,
   "metadata": {
    "execution": {
     "iopub.execute_input": "2023-01-31T15:56:47.521095Z",
     "iopub.status.busy": "2023-01-31T15:56:47.520692Z",
     "iopub.status.idle": "2023-01-31T15:57:14.581147Z",
     "shell.execute_reply": "2023-01-31T15:57:14.579885Z",
     "shell.execute_reply.started": "2023-01-31T15:56:47.521059Z"
    }
   },
   "outputs": [
    {
     "name": "stdout",
     "output_type": "stream",
     "text": [
      "Mejor score para la mejor configuracion de parametros:  0.8342465753424657\n",
      "Mejor configuración de parámetros:  {'model__criterion': 'friedman_mse', 'model__learning_rate': 0.1, 'model__max_depth': 2, 'preprocessor__columtransform__num__imputer__n_neighbors': 5, 'preprocessor__columtransform__num__imputer__weights': 'uniform'}\n"
     ]
    }
   ],
   "source": [
    "model= GradientBoostingClassifier()\n",
    "\n",
    "parameters = {}\n",
    "parameters['model__learning_rate'] = [0.01, 0.05, 0.1]\n",
    "parameters['model__max_depth'] = [1, 2]\n",
    "parameters['model__criterion'] = ['friedman_mse', 'squared_error']\n",
    "\n",
    "gradient_boosting = fitCV(model, parameters, X_train, y_train)"
   ]
  },
  {
   "cell_type": "markdown",
   "metadata": {},
   "source": [
    "## Histogram Gradient Boosting"
   ]
  },
  {
   "cell_type": "code",
   "execution_count": 64,
   "metadata": {
    "execution": {
     "iopub.execute_input": "2023-01-31T15:57:14.582618Z",
     "iopub.status.busy": "2023-01-31T15:57:14.582306Z",
     "iopub.status.idle": "2023-01-31T15:58:10.839014Z",
     "shell.execute_reply": "2023-01-31T15:58:10.838059Z",
     "shell.execute_reply.started": "2023-01-31T15:57:14.582591Z"
    }
   },
   "outputs": [
    {
     "name": "stdout",
     "output_type": "stream",
     "text": [
      "Mejor score para la mejor configuracion de parametros:  0.8479452054794521\n",
      "Mejor configuración de parámetros:  {'model__learning_rate': 0.05, 'model__max_leaf_nodes': 31, 'preprocessor__columtransform__num__imputer__n_neighbors': 10, 'preprocessor__columtransform__num__imputer__weights': 'uniform'}\n"
     ]
    }
   ],
   "source": [
    "model = HistGradientBoostingClassifier(random_state=seed)\n",
    "\n",
    "parameters = {}\n",
    "parameters['model__learning_rate'] = [0.01, 0.05, 0.1]\n",
    "parameters['model__max_leaf_nodes'] = [5, 10, 15, 31]\n",
    "\n",
    "hist_gradient_boosting = fitCV(model, parameters, X_train, y_train)"
   ]
  },
  {
   "cell_type": "markdown",
   "metadata": {},
   "source": [
    "# 6. Validación y modelo final\n",
    "\n",
    "Ahora vamos a evaluar los modelos obtenidos utilizando el conjunto de datos de validación. Para ello vamos a visualizar el `accuracy` obtenido para los datos de entrenamiento y de validación."
   ]
  },
  {
   "cell_type": "code",
   "execution_count": 65,
   "metadata": {
    "execution": {
     "iopub.execute_input": "2023-01-31T16:02:57.766139Z",
     "iopub.status.busy": "2023-01-31T16:02:57.765503Z",
     "iopub.status.idle": "2023-01-31T16:02:57.772462Z",
     "shell.execute_reply": "2023-01-31T16:02:57.771018Z",
     "shell.execute_reply.started": "2023-01-31T16:02:57.766101Z"
    }
   },
   "outputs": [],
   "source": [
    "models = [('SVM', svm), ('KNN', knn),('logistic_regression', logistic_regression), ('naive_bayes', nb), ('decision_tree', decision_tree),\n",
    "    ('ada_boost', ada), ('bagging', bagging), ('random_forest', random_forest), ('gradient_boosting', gradient_boosting), ('histogram_gradient_boosting', hist_gradient_boosting)]"
   ]
  },
  {
   "cell_type": "code",
   "execution_count": 66,
   "metadata": {
    "execution": {
     "iopub.execute_input": "2023-01-31T16:03:15.283990Z",
     "iopub.status.busy": "2023-01-31T16:03:15.282884Z",
     "iopub.status.idle": "2023-01-31T16:03:15.818953Z",
     "shell.execute_reply": "2023-01-31T16:03:15.817930Z",
     "shell.execute_reply.started": "2023-01-31T16:03:15.283946Z"
    }
   },
   "outputs": [
    {
     "name": "stdout",
     "output_type": "stream",
     "text": [
      "Accuracy:\n",
      "SVM\n",
      "\tTrain score:  0.7\n",
      "\tValidation score:  0.6024844720496895\n",
      "KNN\n",
      "\tTrain score:  0.9849315068493151\n",
      "\tValidation score:  0.7018633540372671\n",
      "logistic_regression\n",
      "\tTrain score:  0.8191780821917808\n",
      "\tValidation score:  0.7888198757763976\n",
      "naive_bayes\n",
      "\tTrain score:  0.7931506849315069\n",
      "\tValidation score:  0.7515527950310559\n",
      "decision_tree\n",
      "\tTrain score:  0.8356164383561644\n",
      "\tValidation score:  0.8012422360248447\n",
      "ada_boost\n",
      "\tTrain score:  0.8602739726027397\n",
      "\tValidation score:  0.7577639751552795\n",
      "bagging\n",
      "\tTrain score:  0.9561643835616438\n",
      "\tValidation score:  0.8322981366459627\n",
      "random_forest\n",
      "\tTrain score:  0.8835616438356164\n",
      "\tValidation score:  0.8136645962732919\n",
      "gradient_boosting\n",
      "\tTrain score:  0.8616438356164383\n",
      "\tValidation score:  0.7701863354037267\n",
      "histogram_gradient_boosting\n",
      "\tTrain score:  0.9191780821917809\n",
      "\tValidation score:  0.8074534161490683\n"
     ]
    }
   ],
   "source": [
    "print('Accuracy:')\n",
    "for (name, m) in models:\n",
    "    print(name)\n",
    "    print('\\tTrain score: ', m.score(X_train, y_train))\n",
    "    print('\\tValidation score: ', m.score(X_val, y_val))"
   ]
  },
  {
   "cell_type": "markdown",
   "metadata": {},
   "source": [
    "Vemos que los que mejor resultados ofrecen son los ensembles (bagging, random forest, histogram gradient boosting), el árbol de decisión y la regresión logística. Aún así todos cuentan con bastante sobreajuste a los datos de entrenamiento (buenos resultados para los datos de entrenamiento y peores resultados para los datos de validación).\n",
    "\n",
    "Los dos modelos que menor sobreajuste presentan son los árboles de decisón y la regresión logística. Para este problema disponemos de pocos datos de entrenamiento por lo que los modelos que mejor resultado obtienen son los modelos más simples."
   ]
  },
  {
   "cell_type": "markdown",
   "metadata": {},
   "source": [
    "## Modelo final\n",
    "\n",
    "Ahora se va a construir un modelo final que va a consistir en la unión de los mejores modelos obtenidos, aplicando un voto por la mayoría para predecir la clase que la mayoría de los modelos predigan."
   ]
  },
  {
   "cell_type": "code",
   "execution_count": 67,
   "metadata": {
    "execution": {
     "iopub.execute_input": "2023-01-31T16:16:26.711967Z",
     "iopub.status.busy": "2023-01-31T16:16:26.711575Z",
     "iopub.status.idle": "2023-01-31T16:16:26.718545Z",
     "shell.execute_reply": "2023-01-31T16:16:26.717295Z",
     "shell.execute_reply.started": "2023-01-31T16:16:26.711922Z"
    }
   },
   "outputs": [],
   "source": [
    "estimators = [('logistic_regression', logistic_regression), ('decision_tree', decision_tree), ('bagging', bagging), \n",
    "              ('random_forest', random_forest), ('histogram_gradient_boosting', hist_gradient_boosting)]\n",
    "\n",
    "voting_classfication = VotingClassifier(estimators =estimators, voting=\"hard\", n_jobs=-1)"
   ]
  },
  {
   "cell_type": "markdown",
   "metadata": {},
   "source": [
    "Mostramos el `accuracy` obtenido por este modelo final y su matriz de confusión:"
   ]
  },
  {
   "cell_type": "code",
   "execution_count": 68,
   "metadata": {
    "execution": {
     "iopub.execute_input": "2023-01-31T16:16:40.594646Z",
     "iopub.status.busy": "2023-01-31T16:16:40.594101Z",
     "iopub.status.idle": "2023-01-31T16:16:41.671831Z",
     "shell.execute_reply": "2023-01-31T16:16:41.670932Z",
     "shell.execute_reply.started": "2023-01-31T16:16:40.594597Z"
    }
   },
   "outputs": [
    {
     "name": "stdout",
     "output_type": "stream",
     "text": [
      "Train score:  0.8917808219178082\n",
      "Val score:  0.8198757763975155\n"
     ]
    }
   ],
   "source": [
    "voting_classfication.fit(X_train, y_train)\n",
    "\n",
    "print('Train score: ', voting_classfication.score(X_train, y_train))\n",
    "print('Val score: ', voting_classfication.score(X_val, y_val))"
   ]
  },
  {
   "cell_type": "code",
   "execution_count": 69,
   "metadata": {
    "execution": {
     "iopub.execute_input": "2023-01-31T16:17:18.058118Z",
     "iopub.status.busy": "2023-01-31T16:17:18.057608Z",
     "iopub.status.idle": "2023-01-31T16:17:18.067371Z",
     "shell.execute_reply": "2023-01-31T16:17:18.065913Z",
     "shell.execute_reply.started": "2023-01-31T16:17:18.058073Z"
    }
   },
   "outputs": [],
   "source": [
    "def show_results(y, y_pred):\n",
    "    c_mat = confusion_matrix(y, y_pred)\n",
    "    sns.heatmap(c_mat, square=True, annot=True, fmt='d', cbar=True, cmap=plt.cm.Blues)\n",
    "    plt.ylabel('Clase real')\n",
    "    plt.xlabel('Predicción');\n",
    "    plt.gca().set_ylim(2.0, 0)\n",
    "    plt.show()"
   ]
  },
  {
   "cell_type": "code",
   "execution_count": 70,
   "metadata": {
    "execution": {
     "iopub.execute_input": "2023-01-31T16:17:19.583294Z",
     "iopub.status.busy": "2023-01-31T16:17:19.582877Z",
     "iopub.status.idle": "2023-01-31T16:17:19.916267Z",
     "shell.execute_reply": "2023-01-31T16:17:19.915125Z",
     "shell.execute_reply.started": "2023-01-31T16:17:19.583259Z"
    }
   },
   "outputs": [
    {
     "data": {
      "image/png": "[encoded data removed]",
      "text/plain": [
       "<Figure size 432x288 with 2 Axes>"
      ]
     },
     "metadata": {
      "needs_background": "light"
     },
     "output_type": "display_data"
    }
   ],
   "source": [
    "show_results(y_val, voting_classfication.predict(X_val))"
   ]
  },
  {
   "cell_type": "markdown",
   "metadata": {},
   "source": [
    "Se han obtenido unos buenos resultados con un 82 % para los datos de validación, aún así se ha obtenido algo de sobreajuste ya que para los datos de entrenamiento se ha obtenido casi un 90 %.\n",
    "\n",
    "Observamos que la mayoría de los fallos se producen para los casos positivos. Aquí se puede observar la influencia de trabajar con un conjunto de datos desbalanceado.\n",
    "\n",
    "Probablemente si se hubiera trabajado con una métrica de evaluación distinta podríamos haber reducido este problema, aún así como se dijo al principio se ha elegido el `accuracy` porque es la métrica que se utiliza en la competición de kaggle."
   ]
  },
  {
   "cell_type": "markdown",
   "metadata": {},
   "source": [
    "# 7. Predicción test\n",
    "\n",
    "Para acabar con este cuaderno vamos predecir el conjunto de datos de test. Para ello leemos los datos del `.csv`."
   ]
  },
  {
   "cell_type": "code",
   "execution_count": 71,
   "metadata": {
    "execution": {
     "iopub.execute_input": "2023-01-31T16:08:31.314875Z",
     "iopub.status.busy": "2023-01-31T16:08:31.314461Z",
     "iopub.status.idle": "2023-01-31T16:08:31.337518Z",
     "shell.execute_reply": "2023-01-31T16:08:31.336253Z",
     "shell.execute_reply.started": "2023-01-31T16:08:31.314838Z"
    }
   },
   "outputs": [
    {
     "data": {
      "text/html": [
       "<div>\n",
       "<style scoped>\n",
       "    .dataframe tbody tr th:only-of-type {\n",
       "        vertical-align: middle;\n",
       "    }\n",
       "\n",
       "    .dataframe tbody tr th {\n",
       "        vertical-align: top;\n",
       "    }\n",
       "\n",
       "    .dataframe thead th {\n",
       "        text-align: right;\n",
       "    }\n",
       "</style>\n",
       "<table border=\"1\" class=\"dataframe\">\n",
       "  <thead>\n",
       "    <tr style=\"text-align: right;\">\n",
       "      <th></th>\n",
       "      <th>PassengerId</th>\n",
       "      <th>Pclass</th>\n",
       "      <th>Name</th>\n",
       "      <th>Sex</th>\n",
       "      <th>Age</th>\n",
       "      <th>SibSp</th>\n",
       "      <th>Parch</th>\n",
       "      <th>Ticket</th>\n",
       "      <th>Fare</th>\n",
       "      <th>Cabin</th>\n",
       "      <th>Embarked</th>\n",
       "    </tr>\n",
       "  </thead>\n",
       "  <tbody>\n",
       "    <tr>\n",
       "      <th>321</th>\n",
       "      <td>1213</td>\n",
       "      <td>3</td>\n",
       "      <td>Krekorian, Mr. Neshan</td>\n",
       "      <td>male</td>\n",
       "      <td>25.0</td>\n",
       "      <td>0</td>\n",
       "      <td>0</td>\n",
       "      <td>2654</td>\n",
       "      <td>7.2292</td>\n",
       "      <td>F E57</td>\n",
       "      <td>C</td>\n",
       "    </tr>\n",
       "    <tr>\n",
       "      <th>324</th>\n",
       "      <td>1216</td>\n",
       "      <td>1</td>\n",
       "      <td>Kreuchen, Miss. Emilie</td>\n",
       "      <td>female</td>\n",
       "      <td>39.0</td>\n",
       "      <td>0</td>\n",
       "      <td>0</td>\n",
       "      <td>24160</td>\n",
       "      <td>211.3375</td>\n",
       "      <td>NaN</td>\n",
       "      <td>S</td>\n",
       "    </tr>\n",
       "    <tr>\n",
       "      <th>388</th>\n",
       "      <td>1280</td>\n",
       "      <td>3</td>\n",
       "      <td>Canavan, Mr. Patrick</td>\n",
       "      <td>male</td>\n",
       "      <td>21.0</td>\n",
       "      <td>0</td>\n",
       "      <td>0</td>\n",
       "      <td>364858</td>\n",
       "      <td>7.7500</td>\n",
       "      <td>NaN</td>\n",
       "      <td>Q</td>\n",
       "    </tr>\n",
       "    <tr>\n",
       "      <th>56</th>\n",
       "      <td>948</td>\n",
       "      <td>3</td>\n",
       "      <td>Cor, Mr. Bartol</td>\n",
       "      <td>male</td>\n",
       "      <td>35.0</td>\n",
       "      <td>0</td>\n",
       "      <td>0</td>\n",
       "      <td>349230</td>\n",
       "      <td>7.8958</td>\n",
       "      <td>NaN</td>\n",
       "      <td>S</td>\n",
       "    </tr>\n",
       "    <tr>\n",
       "      <th>153</th>\n",
       "      <td>1045</td>\n",
       "      <td>3</td>\n",
       "      <td>Klasen, Mrs. (Hulda Kristina Eugenia Lofqvist)</td>\n",
       "      <td>female</td>\n",
       "      <td>36.0</td>\n",
       "      <td>0</td>\n",
       "      <td>2</td>\n",
       "      <td>350405</td>\n",
       "      <td>12.1833</td>\n",
       "      <td>NaN</td>\n",
       "      <td>S</td>\n",
       "    </tr>\n",
       "  </tbody>\n",
       "</table>\n",
       "</div>"
      ],
      "text/plain": [
       "     PassengerId  Pclass                                            Name  \\\n",
       "321         1213       3                           Krekorian, Mr. Neshan   \n",
       "324         1216       1                          Kreuchen, Miss. Emilie   \n",
       "388         1280       3                            Canavan, Mr. Patrick   \n",
       "56           948       3                                 Cor, Mr. Bartol   \n",
       "153         1045       3  Klasen, Mrs. (Hulda Kristina Eugenia Lofqvist)   \n",
       "\n",
       "        Sex   Age  SibSp  Parch  Ticket      Fare  Cabin Embarked  \n",
       "321    male  25.0      0      0    2654    7.2292  F E57        C  \n",
       "324  female  39.0      0      0   24160  211.3375    NaN        S  \n",
       "388    male  21.0      0      0  364858    7.7500    NaN        Q  \n",
       "56     male  35.0      0      0  349230    7.8958    NaN        S  \n",
       "153  female  36.0      0      2  350405   12.1833    NaN        S  "
      ]
     },
     "execution_count": 71,
     "metadata": {},
     "output_type": "execute_result"
    }
   ],
   "source": [
    "filepath = 'test.csv'\n",
    "test = pd.read_csv(filepath)\n",
    "test.sample(5, random_state=seed)"
   ]
  },
  {
   "cell_type": "markdown",
   "metadata": {},
   "source": [
    "Utilizamos el modelo final para predecir estos datos y construimos un dataframe con el formato requerido en la competición de kaggle."
   ]
  },
  {
   "cell_type": "code",
   "execution_count": 72,
   "metadata": {
    "execution": {
     "iopub.execute_input": "2023-01-31T16:10:09.457951Z",
     "iopub.status.busy": "2023-01-31T16:10:09.457532Z",
     "iopub.status.idle": "2023-01-31T16:10:09.483341Z",
     "shell.execute_reply": "2023-01-31T16:10:09.482334Z",
     "shell.execute_reply.started": "2023-01-31T16:10:09.457908Z"
    }
   },
   "outputs": [],
   "source": [
    "pred = voting_classfication.predict(test)"
   ]
  },
  {
   "cell_type": "code",
   "execution_count": 73,
   "metadata": {
    "execution": {
     "iopub.execute_input": "2023-01-31T16:10:10.538983Z",
     "iopub.status.busy": "2023-01-31T16:10:10.538593Z",
     "iopub.status.idle": "2023-01-31T16:10:10.546738Z",
     "shell.execute_reply": "2023-01-31T16:10:10.545428Z",
     "shell.execute_reply.started": "2023-01-31T16:10:10.538949Z"
    }
   },
   "outputs": [],
   "source": [
    "survived = pd.Series(pred, name='Survived')\n",
    "submission = pd.concat([test['PassengerId'], survived], axis=1)"
   ]
  },
  {
   "cell_type": "code",
   "execution_count": 74,
   "metadata": {
    "execution": {
     "iopub.execute_input": "2023-01-31T16:10:11.679651Z",
     "iopub.status.busy": "2023-01-31T16:10:11.678947Z",
     "iopub.status.idle": "2023-01-31T16:10:11.693861Z",
     "shell.execute_reply": "2023-01-31T16:10:11.692819Z",
     "shell.execute_reply.started": "2023-01-31T16:10:11.679603Z"
    }
   },
   "outputs": [
    {
     "data": {
      "text/html": [
       "<div>\n",
       "<style scoped>\n",
       "    .dataframe tbody tr th:only-of-type {\n",
       "        vertical-align: middle;\n",
       "    }\n",
       "\n",
       "    .dataframe tbody tr th {\n",
       "        vertical-align: top;\n",
       "    }\n",
       "\n",
       "    .dataframe thead th {\n",
       "        text-align: right;\n",
       "    }\n",
       "</style>\n",
       "<table border=\"1\" class=\"dataframe\">\n",
       "  <thead>\n",
       "    <tr style=\"text-align: right;\">\n",
       "      <th></th>\n",
       "      <th>PassengerId</th>\n",
       "      <th>Survived</th>\n",
       "    </tr>\n",
       "  </thead>\n",
       "  <tbody>\n",
       "    <tr>\n",
       "      <th>321</th>\n",
       "      <td>1213</td>\n",
       "      <td>0</td>\n",
       "    </tr>\n",
       "    <tr>\n",
       "      <th>324</th>\n",
       "      <td>1216</td>\n",
       "      <td>1</td>\n",
       "    </tr>\n",
       "    <tr>\n",
       "      <th>388</th>\n",
       "      <td>1280</td>\n",
       "      <td>0</td>\n",
       "    </tr>\n",
       "    <tr>\n",
       "      <th>56</th>\n",
       "      <td>948</td>\n",
       "      <td>0</td>\n",
       "    </tr>\n",
       "    <tr>\n",
       "      <th>153</th>\n",
       "      <td>1045</td>\n",
       "      <td>1</td>\n",
       "    </tr>\n",
       "  </tbody>\n",
       "</table>\n",
       "</div>"
      ],
      "text/plain": [
       "     PassengerId  Survived\n",
       "321         1213         0\n",
       "324         1216         1\n",
       "388         1280         0\n",
       "56           948         0\n",
       "153         1045         1"
      ]
     },
     "execution_count": 74,
     "metadata": {},
     "output_type": "execute_result"
    }
   ],
   "source": [
    "submission.sample(5, random_state=seed)"
   ]
  },
  {
   "cell_type": "code",
   "execution_count": 75,
   "metadata": {
    "execution": {
     "iopub.execute_input": "2023-01-31T16:10:17.439148Z",
     "iopub.status.busy": "2023-01-31T16:10:17.438767Z",
     "iopub.status.idle": "2023-01-31T16:10:17.446686Z",
     "shell.execute_reply": "2023-01-31T16:10:17.445123Z",
     "shell.execute_reply.started": "2023-01-31T16:10:17.439117Z"
    }
   },
   "outputs": [],
   "source": [
    "submission.to_csv('submission.csv', index=False)"
   ]
  },
  {
   "cell_type": "markdown",
   "metadata": {},
   "source": [
    "Finalmente generamos un archivo `submission.csv` con las predicciones. Con estas predicciones se ha obtenido un `accuracy` de 77.751 % para el conjunto de test en la competición de kaggle.\n",
    "\n",
    "Podemos observar que es un valor más bajo que el obtenido para los datos de entrenamiento y de validación. Eso es debido a que hemos obtenido sobreajuste en los modelos definidos, pero aún así hemos obtenido unos buenos resultados para un dataset tan pequeño y con tantas particularidades como lo es el de `titanic`."
   ]
  }
 ],
 "metadata": {
  "kernelspec": {
   "display_name": "Python 3 (ipykernel)",
   "language": "python",
   "name": "python3"
  },
  "language_info": {
   "codemirror_mode": {
    "name": "ipython",
    "version": 3
   },
   "file_extension": ".py",
   "mimetype": "text/x-python",
   "name": "python",
   "nbconvert_exporter": "python",
   "pygments_lexer": "ipython3",
   "version": "3.9.12"
  }
 },
 "nbformat": 4,
 "nbformat_minor": 4
}
